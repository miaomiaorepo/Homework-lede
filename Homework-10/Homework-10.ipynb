{
 "cells": [
  {
   "cell_type": "code",
   "execution_count": 105,
   "metadata": {
    "collapsed": true
   },
   "outputs": [],
   "source": [
    "import requests"
   ]
  },
  {
   "cell_type": "code",
   "execution_count": 73,
   "metadata": {
    "collapsed": true
   },
   "outputs": [],
   "source": [
    "response = requests.get('https://api.forecast.io/forecast/1a4991f3feb9de329fc1407de3265f13/40.8006,-73.9653')"
   ]
  },
  {
   "cell_type": "code",
   "execution_count": 87,
   "metadata": {
    "collapsed": false
   },
   "outputs": [],
   "source": [
    "data = response.json()"
   ]
  },
  {
   "cell_type": "code",
   "execution_count": 252,
   "metadata": {
    "collapsed": false
   },
   "outputs": [],
   "source": [
    "today = data['daily']['data']\n",
    "def temp_feeling(x):\n",
    "    for i in today:\n",
    "        if i['temperatureMax'] >= 77:\n",
    "            return \"hot\"\n",
    "        elif i['temperatureMax'] >= 60 and tody['temperatureMax'] < 76:\n",
    "            return 'warm'\n",
    "        elif i['temperatureMax'] < 60:\n",
    "            return 'cold'"
   ]
  },
  {
   "cell_type": "code",
   "execution_count": 243,
   "metadata": {
    "collapsed": false
   },
   "outputs": [],
   "source": [
    "def rain_warning(x):\n",
    "    for i in today:\n",
    "        if i['precipIntensity'] > 0.017:\n",
    "            return(\"bring your umbrella!\")  \n",
    "        else:\n",
    "            return(\"Have a good day!\")"
   ]
  },
  {
   "cell_type": "code",
   "execution_count": 244,
   "metadata": {
    "collapsed": false
   },
   "outputs": [],
   "source": [
    "today_high = str(today[0]['temperatureMax'])\n",
    "today_low = str(today[0]['temperatureMin'])\n",
    "current_temp = str(data['currently']['temperature'])\n",
    "current_sum = str(data['currently']['summary'])"
   ]
  },
  {
   "cell_type": "code",
   "execution_count": 245,
   "metadata": {
    "collapsed": true
   },
   "outputs": [],
   "source": [
    "# Right now it is TEMPERATURE degrees out and SUMMARY. \n",
    "# Today will be TEMP_FEELING with a high of HIGH_TEMP and \n",
    "# a low of LOW_TEMP. RAIN_WARNING."
   ]
  },
  {
   "cell_type": "code",
   "execution_count": 253,
   "metadata": {
    "collapsed": false
   },
   "outputs": [
    {
     "name": "stdout",
     "output_type": "stream",
     "text": [
      "Right now it is 80.17 degrees out and Clear. Today will be hotwith a high of 81.67 and a low of 68.46. Have a good day!\n"
     ]
    }
   ],
   "source": [
    "text =  \"Right now it is \"+current_temp+\" degrees out and \"+current_sum+\". Today will be \"+temp_feeling(x)+\"with a high of \"+today_high+\" and a low of \"+today_low+\". \"+rain_warning(x)\n",
    "print(text)"
   ]
  },
  {
   "cell_type": "code",
   "execution_count": 250,
   "metadata": {
    "collapsed": false
   },
   "outputs": [],
   "source": [
    "import dateutil.parser\n",
    "import time,datetime\n",
    "now = time.strftime(\"%B %d, %Y\")"
   ]
  },
  {
   "cell_type": "code",
   "execution_count": 248,
   "metadata": {
    "collapsed": false
   },
   "outputs": [
    {
     "name": "stdout",
     "output_type": "stream",
     "text": [
      "Status: 200\n",
      "Body:   {\n",
      "  \"id\": \"<20160624225906.17643.12631.AC427AFB@sandbox41d433508cd3471480f96efde8aaa441.mailgun.org>\",\n",
      "  \"message\": \"Queued. Thank you.\"\n",
      "}\n"
     ]
    }
   ],
   "source": [
    "key = 'key-b6f07c1a84b9c8d231ddb0f4fe00d648'\n",
    "sandbox = 'sandbox41d433508cd3471480f96efde8aaa441.mailgun.org'\n",
    "recipient = 'shuyao1201@gmail.com'\n",
    "request_url = 'https://api.mailgun.net/v2/{0}/messages'.format(sandbox)\n",
    "request = requests.post(request_url, auth=('api', key), data={\n",
    "    'from': 'hello@example.com',\n",
    "    'to': recipient,\n",
    "    'subject': \"8am Weather forecast:\" + now,\n",
    "    'text': text,\n",
    "})\n",
    "\n",
    "print('Status: {0}'.format(request.status_code))\n",
    "print('Body:   {0}'.format(request.text))"
   ]
  },
  {
   "cell_type": "code",
   "execution_count": null,
   "metadata": {
    "collapsed": true
   },
   "outputs": [],
   "source": []
  }
 ],
 "metadata": {
  "kernelspec": {
   "display_name": "Python 3",
   "language": "python",
   "name": "python3"
  },
  "language_info": {
   "codemirror_mode": {
    "name": "ipython",
    "version": 3
   },
   "file_extension": ".py",
   "mimetype": "text/x-python",
   "name": "python",
   "nbconvert_exporter": "python",
   "pygments_lexer": "ipython3",
   "version": "3.5.1"
  }
 },
 "nbformat": 4,
 "nbformat_minor": 0
}
