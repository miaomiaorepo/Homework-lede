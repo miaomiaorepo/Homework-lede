{
 "cells": [
  {
   "cell_type": "markdown",
   "metadata": {},
   "source": [
    "### 1) Make a request from the Forecast.io API for where you were born (or lived, or want to visit!)."
   ]
  },
  {
   "cell_type": "code",
   "execution_count": 165,
   "metadata": {
    "collapsed": true
   },
   "outputs": [],
   "source": [
    "import requests"
   ]
  },
  {
   "cell_type": "code",
   "execution_count": 166,
   "metadata": {
    "collapsed": true
   },
   "outputs": [],
   "source": [
    "# My API key: 1a4991f3feb9de329fc1407de3265f13\n",
    "# Place : New York\n",
    "response = requests.get('https://api.forecast.io/forecast/1a4991f3feb9de329fc1407de3265f13/40.8006,-73.9653')"
   ]
  },
  {
   "cell_type": "code",
   "execution_count": 167,
   "metadata": {
    "collapsed": true
   },
   "outputs": [],
   "source": [
    "data = response.json()"
   ]
  },
  {
   "cell_type": "code",
   "execution_count": 174,
   "metadata": {
    "collapsed": false
   },
   "outputs": [
    {
     "data": {
      "text/plain": [
       "dict_keys(['latitude', 'longitude', 'hourly', 'offset', 'daily', 'timezone', 'flags', 'minutely', 'currently'])"
      ]
     },
     "execution_count": 174,
     "metadata": {},
     "output_type": "execute_result"
    }
   ],
   "source": [
    "data.keys()"
   ]
  },
  {
   "cell_type": "markdown",
   "metadata": {},
   "source": [
    "### 2) What's the current wind speed? How much warmer does it feel than it actually is?"
   ]
  },
  {
   "cell_type": "code",
   "execution_count": 170,
   "metadata": {
    "collapsed": false
   },
   "outputs": [
    {
     "data": {
      "text/plain": [
       "dict_keys(['temperature', 'visibility', 'pressure', 'nearestStormBearing', 'cloudCover', 'windSpeed', 'apparentTemperature', 'summary', 'precipProbability', 'time', 'ozone', 'humidity', 'icon', 'nearestStormDistance', 'dewPoint', 'precipIntensity', 'windBearing'])"
      ]
     },
     "execution_count": 170,
     "metadata": {},
     "output_type": "execute_result"
    }
   ],
   "source": [
    "currently_info = data['currently']\n",
    "currently_info.keys()"
   ]
  },
  {
   "cell_type": "code",
   "execution_count": 117,
   "metadata": {
    "collapsed": false
   },
   "outputs": [
    {
     "data": {
      "text/plain": [
       "list"
      ]
     },
     "execution_count": 117,
     "metadata": {},
     "output_type": "execute_result"
    }
   ],
   "source": []
  },
  {
   "cell_type": "code",
   "execution_count": 75,
   "metadata": {
    "collapsed": false,
    "scrolled": true
   },
   "outputs": [
    {
     "name": "stdout",
     "output_type": "stream",
     "text": [
      "The current wind speed is 14.48\n"
     ]
    }
   ],
   "source": [
    "print('The current wind speed is', currently_info['windSpeed'])"
   ]
  },
  {
   "cell_type": "code",
   "execution_count": 76,
   "metadata": {
    "collapsed": false
   },
   "outputs": [
    {
     "data": {
      "text/plain": [
       "(70.97, 70.97)"
      ]
     },
     "execution_count": 76,
     "metadata": {},
     "output_type": "execute_result"
    }
   ],
   "source": [
    "currently_info['apparentTemperature'],currently_info['temperature']"
   ]
  },
  {
   "cell_type": "code",
   "execution_count": 59,
   "metadata": {
    "collapsed": false
   },
   "outputs": [
    {
     "name": "stdout",
     "output_type": "stream",
     "text": [
      "Feels the same as it acually is.\n"
     ]
    }
   ],
   "source": [
    "print('Feels the same as it acually is.' )"
   ]
  },
  {
   "cell_type": "markdown",
   "metadata": {},
   "source": [
    "### 3) The first daily forecast is the forecast for today. For the place you decided on up above, how much of the moon is currently visible?"
   ]
  },
  {
   "cell_type": "code",
   "execution_count": 60,
   "metadata": {
    "collapsed": true
   },
   "outputs": [],
   "source": [
    "daily_info = data['daily']"
   ]
  },
  {
   "cell_type": "code",
   "execution_count": 74,
   "metadata": {
    "collapsed": false
   },
   "outputs": [
    {
     "name": "stdout",
     "output_type": "stream",
     "text": [
      "0.16 of the moon is currently visible.\n"
     ]
    }
   ],
   "source": [
    "print(daily_info['data'][0]['moonPhase'],'of the moon is currently visible.')"
   ]
  },
  {
   "cell_type": "markdown",
   "metadata": {},
   "source": [
    "### 4) What's the difference between the high and low temperatures for today?"
   ]
  },
  {
   "cell_type": "code",
   "execution_count": 69,
   "metadata": {
    "collapsed": false
   },
   "outputs": [
    {
     "data": {
      "text/plain": [
       "dict_keys(['apparentTemperatureMinTime', 'windSpeed', 'precipProbability', 'temperatureMaxTime', 'temperatureMin', 'visibility', 'summary', 'sunriseTime', 'sunsetTime', 'precipIntensityMax', 'temperatureMax', 'moonPhase', 'cloudCover', 'icon', 'time', 'ozone', 'humidity', 'apparentTemperatureMaxTime', 'pressure', 'apparentTemperatureMin', 'temperatureMinTime', 'apparentTemperatureMax', 'dewPoint', 'precipIntensity', 'windBearing'])"
      ]
     },
     "execution_count": 69,
     "metadata": {},
     "output_type": "execute_result"
    }
   ],
   "source": [
    "daily_info['data'][0].keys()"
   ]
  },
  {
   "cell_type": "code",
   "execution_count": 72,
   "metadata": {
    "collapsed": false
   },
   "outputs": [
    {
     "name": "stdout",
     "output_type": "stream",
     "text": [
      "The difference is 18.75999999999999\n"
     ]
    }
   ],
   "source": [
    "high_temp = daily_info['data'][0]['temperatureMax']\n",
    "low_temp = daily_info['data'][0]['temperatureMin']\n",
    "print('The difference is',high_temp - low_temp)"
   ]
  },
  {
   "cell_type": "markdown",
   "metadata": {},
   "source": [
    "### 5) Loop through the daily forecast, printing out the next week's worth of predictions. I'd like to know the high temperature for each day, and whether it's hot, warm, or cold, based on what temperatures you think are hot, warm or cold."
   ]
  },
  {
   "cell_type": "code",
   "execution_count": 102,
   "metadata": {
    "collapsed": false
   },
   "outputs": [],
   "source": [
    "daily_info = data['daily']['data']"
   ]
  },
  {
   "cell_type": "code",
   "execution_count": 101,
   "metadata": {
    "collapsed": false
   },
   "outputs": [
    {
     "name": "stdout",
     "output_type": "stream",
     "text": [
      "72.32\n",
      "It is warm. Nice weather!\n",
      "75.99\n",
      "It is warm. Nice weather!\n",
      "76.94\n",
      "It is cold. Take care!\n",
      "78.75\n",
      "It is hot!!!\n",
      "69.11\n",
      "It is warm. Nice weather!\n",
      "79.8\n",
      "It is hot!!!\n",
      "83.83\n",
      "It is hot!!!\n",
      "84.01\n",
      "It is hot!!!\n"
     ]
    }
   ],
   "source": [
    "for daily in daily_info:\n",
    "    print(daily['temperatureMax'])\n",
    "    # If the high temperature is higher than 77, I think it would be hot.\n",
    "    # If the high temperature is between 76 and 60, I think it would be warm.\n",
    "    # If the high temperature is lower than 60, I think it would be cold.\n",
    "    if daily['temperatureMax'] >=  77:\n",
    "        print('It is hot!!!')\n",
    "    elif daily['temperatureMax'] >= 60 and daily['temperatureMax'] < 76:\n",
    "        print('It is warm. Nice weather!')\n",
    "    else:\n",
    "        print('It is cold. Take care!')"
   ]
  },
  {
   "cell_type": "markdown",
   "metadata": {},
   "source": [
    "### 6) What's the weather looking like for the rest of today in Miami, Florida? I'd like to know the temperature for every hour, and if it's going to have cloud cover of more than 0.5 say \"{temperature} and cloudy\" instead of just the temperature."
   ]
  },
  {
   "cell_type": "code",
   "execution_count": 103,
   "metadata": {
    "collapsed": true
   },
   "outputs": [],
   "source": [
    "# Miami: 25.7748,-80.1977\n",
    "response = requests.get('https://api.forecast.io/forecast/1a4991f3feb9de329fc1407de3265f13/25.7748,-80.1977')"
   ]
  },
  {
   "cell_type": "code",
   "execution_count": 114,
   "metadata": {
    "collapsed": true
   },
   "outputs": [],
   "source": [
    "data_miami = response.json()"
   ]
  },
  {
   "cell_type": "code",
   "execution_count": 173,
   "metadata": {
    "collapsed": false
   },
   "outputs": [],
   "source": [
    "data_miami_hourly = data_miami['hourly']['data']"
   ]
  },
  {
   "cell_type": "code",
   "execution_count": 137,
   "metadata": {
    "collapsed": false
   },
   "outputs": [
    {
     "name": "stdout",
     "output_type": "stream",
     "text": [
      "cloudy\n",
      "cloudy\n",
      "cloudy\n",
      "cloudy\n",
      "cloudy\n",
      "cloudy\n",
      "cloudy\n",
      "cloudy\n",
      "cloudy\n",
      "cloudy\n",
      "cloudy\n",
      "cloudy\n",
      "cloudy\n",
      "cloudy\n",
      "cloudy\n",
      "cloudy\n",
      "cloudy\n",
      "cloudy\n",
      "cloudy\n",
      "cloudy\n",
      "cloudy\n",
      "cloudy\n",
      "cloudy\n",
      "cloudy\n",
      "cloudy\n",
      "cloudy\n",
      "cloudy\n",
      "cloudy\n",
      "cloudy\n",
      "cloudy\n",
      "cloudy\n",
      "cloudy\n",
      "cloudy\n",
      "0.5\n",
      "0.36\n",
      "0.26\n",
      "0.18\n",
      "0.15\n",
      "0.2\n",
      "0.29\n",
      "0.34\n",
      "0.3\n",
      "0.21\n",
      "0.17\n",
      "0.21\n",
      "0.3\n",
      "0.4\n",
      "cloudy\n",
      "cloudy\n"
     ]
    }
   ],
   "source": [
    "# When \"cloudCover\" is bigger than 0.5, Forecast calls it \"cloudy\" instead of giving numbers.\n",
    "for cloud in data_miami_hourly:\n",
    "    print(cloud['cloudCover'])"
   ]
  },
  {
   "cell_type": "code",
   "execution_count": 145,
   "metadata": {
    "collapsed": false
   },
   "outputs": [
    {
     "name": "stdout",
     "output_type": "stream",
     "text": [
      "86.64 cloudy\n",
      "85.56 cloudy\n",
      "84.39 cloudy\n",
      "83.39 cloudy\n",
      "82.63 cloudy\n",
      "82.26 cloudy\n",
      "81.03 cloudy\n",
      "80.81 cloudy\n",
      "80.41 cloudy\n",
      "80.14 cloudy\n",
      "79.61 cloudy\n",
      "79.06 cloudy\n",
      "78.27 cloudy\n",
      "77.73 cloudy\n",
      "77.44 cloudy\n",
      "78.12 cloudy\n",
      "79.4 cloudy\n",
      "80.94 cloudy\n",
      "82.85 cloudy\n",
      "84.33 cloudy\n",
      "85.03 cloudy\n",
      "85.8 cloudy\n",
      "86.37 cloudy\n",
      "86.4 cloudy\n",
      "87.39 cloudy\n",
      "86.29 cloudy\n",
      "84.92 cloudy\n",
      "83.62 cloudy\n",
      "82.78 cloudy\n",
      "82.11 cloudy\n",
      "81.56 cloudy\n",
      "81.09 cloudy\n",
      "80.6 cloudy\n",
      "80.01 0.5\n",
      "79.33 0.36\n",
      "78.64 0.26\n",
      "78.13 0.18\n",
      "78.66 0.15\n",
      "79.4 0.2\n",
      "80.12 0.29\n",
      "80.87 0.34\n",
      "81.96 0.3\n",
      "83.32 0.21\n",
      "84.68 0.17\n",
      "86.2 0.21\n",
      "87.86 0.3\n",
      "88.82 0.4\n",
      "88.33 cloudy\n",
      "87.24 cloudy\n"
     ]
    }
   ],
   "source": [
    "for temperature_hourly in data_miami_hourly:\n",
    "    if temperature_hourly['cloudCover'] == str('cloudy') :\n",
    "        print (temperature_hourly['temperature'], temperature_hourly['cloudCover'])\n",
    "    else:\n",
    "        print(temperature_hourly['temperature'], temperature_hourly['cloudCover'])"
   ]
  },
  {
   "cell_type": "markdown",
   "metadata": {},
   "source": [
    "### 7) What was the temperature in Central Park on Christmas Day, 1980? How about 1990? 2000?\n"
   ]
  },
  {
   "cell_type": "code",
   "execution_count": 152,
   "metadata": {
    "collapsed": false
   },
   "outputs": [],
   "source": [
    "# Central Park : 40.771133, -73.974187\n",
    "# UNIX Time of 1980's Christmas: 346568400\n",
    "response = requests.get('https://api.forecast.io/forecast/1a4991f3feb9de329fc1407de3265f13/40.771133,-73.974187,346568400')"
   ]
  },
  {
   "cell_type": "code",
   "execution_count": 153,
   "metadata": {
    "collapsed": true
   },
   "outputs": [],
   "source": [
    "data = response.json()"
   ]
  },
  {
   "cell_type": "code",
   "execution_count": 155,
   "metadata": {
    "collapsed": false
   },
   "outputs": [],
   "source": [
    "temperature_1980 = data['currently']"
   ]
  },
  {
   "cell_type": "code",
   "execution_count": 158,
   "metadata": {
    "collapsed": false
   },
   "outputs": [
    {
     "name": "stdout",
     "output_type": "stream",
     "text": [
      "The temperature is 30.24 in Central Prak on Chrismas Day,1980.\n"
     ]
    }
   ],
   "source": [
    "print('The temperature is', temperature_1980['temperature'],'in Central Prak on Chrismas Day,1980.')"
   ]
  },
  {
   "cell_type": "code",
   "execution_count": 162,
   "metadata": {
    "collapsed": false
   },
   "outputs": [
    {
     "name": "stdout",
     "output_type": "stream",
     "text": [
      "The temperature is 30.08 in Central Prak on Chrismas Day,1990.\n"
     ]
    }
   ],
   "source": [
    "#UNIX Time of 1990's Christmas: 662101200\n",
    "import requests\n",
    "response = requests.get('https://api.forecast.io/forecast/1a4991f3feb9de329fc1407de3265f13/40.771133,-73.974187,662101200')\n",
    "data = response.json()\n",
    "temperature_1990 = data['currently']\n",
    "print('The temperature is', temperature_1990['temperature'],'in Central Prak on Chrismas Day,1990.')"
   ]
  },
  {
   "cell_type": "code",
   "execution_count": 164,
   "metadata": {
    "collapsed": false
   },
   "outputs": [
    {
     "name": "stdout",
     "output_type": "stream",
     "text": [
      "The temperature is 27.03 in Central Prak on Chrismas Day,2000.\n"
     ]
    }
   ],
   "source": [
    "#UNIX Time of 2000's Christmas: 977720400\n",
    "import requests\n",
    "response = requests.get('https://api.forecast.io/forecast/1a4991f3feb9de329fc1407de3265f13/40.771133,-73.974187,977720400')\n",
    "data = response.json()\n",
    "temperature_2000 = data['currently']\n",
    "print('The temperature is', temperature_2000['temperature'],'in Central Prak on Chrismas Day,2000.')"
   ]
  }
 ],
 "metadata": {
  "kernelspec": {
   "display_name": "Python 3",
   "language": "python",
   "name": "python3"
  },
  "language_info": {
   "codemirror_mode": {
    "name": "ipython",
    "version": 3
   },
   "file_extension": ".py",
   "mimetype": "text/x-python",
   "name": "python",
   "nbconvert_exporter": "python",
   "pygments_lexer": "ipython3",
   "version": "3.5.1"
  }
 },
 "nbformat": 4,
 "nbformat_minor": 0
}
