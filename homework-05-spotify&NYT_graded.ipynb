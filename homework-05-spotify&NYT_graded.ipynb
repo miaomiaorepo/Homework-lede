{
 "cells": [
  {
   "cell_type": "markdown",
   "metadata": {},
   "source": [
    "### Grade: 15 / 16 -- great job! Look out for \"TA-COMMENT\""
   ]
  },
  {
   "cell_type": "markdown",
   "metadata": {},
   "source": [
    "# Spotify"
   ]
  },
  {
   "cell_type": "code",
   "execution_count": 1,
   "metadata": {
    "collapsed": true
   },
   "outputs": [],
   "source": [
    "import requests"
   ]
  },
  {
   "cell_type": "code",
   "execution_count": 2,
   "metadata": {
    "collapsed": true
   },
   "outputs": [],
   "source": [
    "response = requests.get('https://api.spotify.com/v1/search?query=Lil&type=artist&market＝US&limit=50')"
   ]
  },
  {
   "cell_type": "code",
   "execution_count": 3,
   "metadata": {
    "collapsed": false
   },
   "outputs": [],
   "source": [
    "data = response.json()"
   ]
  },
  {
   "cell_type": "code",
   "execution_count": 4,
   "metadata": {
    "collapsed": false
   },
   "outputs": [
    {
     "data": {
      "text/plain": [
       "dict"
      ]
     },
     "execution_count": 4,
     "metadata": {},
     "output_type": "execute_result"
    }
   ],
   "source": [
    "type(data)"
   ]
  },
  {
   "cell_type": "code",
   "execution_count": 5,
   "metadata": {
    "collapsed": false
   },
   "outputs": [
    {
     "data": {
      "text/plain": [
       "dict_keys(['artists'])"
      ]
     },
     "execution_count": 5,
     "metadata": {},
     "output_type": "execute_result"
    }
   ],
   "source": [
    "data.keys()"
   ]
  },
  {
   "cell_type": "code",
   "execution_count": 132,
   "metadata": {
    "collapsed": false
   },
   "outputs": [
    {
     "data": {
      "text/plain": [
       "dict_keys(['href', 'next', 'previous', 'items', 'limit', 'total', 'offset'])"
      ]
     },
     "execution_count": 132,
     "metadata": {},
     "output_type": "execute_result"
    }
   ],
   "source": [
    "data['artists'].keys()"
   ]
  },
  {
   "cell_type": "markdown",
   "metadata": {},
   "source": [
    "#### 1) Do a search and print a list of 50 that are playable in the USA (or the country of your choice), along with their popularity score."
   ]
  },
  {
   "cell_type": "code",
   "execution_count": 7,
   "metadata": {
    "collapsed": true
   },
   "outputs": [],
   "source": [
    "lil_data = data['artists']['items']"
   ]
  },
  {
   "cell_type": "code",
   "execution_count": 8,
   "metadata": {
    "collapsed": false,
    "scrolled": true
   },
   "outputs": [
    {
     "name": "stdout",
     "output_type": "stream",
     "text": [
      "Lil Wayne 86\n",
      "Lil Yachty 72\n",
      "Lil Uzi Vert 73\n",
      "Lil Dicky 68\n",
      "Boosie Badazz 67\n",
      "Lil Jon 72\n",
      "King Lil G 61\n",
      "Lil Durk 60\n",
      "Lil Jon & The East Side Boyz 60\n",
      "Lil Bibby 54\n",
      "G Herbo 53\n",
      "Lil Rob 50\n",
      "Lil Reese 50\n",
      "Lil Keke 48\n",
      "Bow Wow 57\n",
      "Lil Scrappy 48\n",
      "Lil Wyte 50\n",
      "Lil Blood 45\n",
      "Lil Snupe 45\n",
      "Lil Mama 45\n",
      "Lil B 44\n",
      "Lil' Kim 62\n",
      "Lil Cuete 40\n",
      "Lil Phat 39\n",
      "Lil Debbie 43\n",
      "Lil Twist 39\n",
      "Lil Trill 37\n",
      "Lil Boom 39\n",
      "Lil Twon 37\n",
      "Lil AJ 37\n",
      "Lil Lonnie 37\n",
      "Lil Goofy 35\n",
      "Lil Haiti 36\n",
      "Mr. Lil One 36\n",
      "Lil Cray 35\n",
      "Lil Flash 38\n",
      "Lil Silva 43\n",
      "Lil Kesh 39\n",
      "Lil Rue 34\n",
      "Lil Yase 34\n",
      "Lil Eddie 41\n",
      "Lil Wayne, DJ Drama 35\n",
      "Lil Suzy 34\n",
      "Lil Mouse 34\n",
      "Lil C 33\n",
      "Lil Rick 39\n",
      "Lil June 32\n",
      "Lil E 34\n",
      "Lil Fate 34\n",
      "Lil' Flip 49\n"
     ]
    }
   ],
   "source": [
    "for artist in lil_data:\n",
    "    print(artist['name'], artist['popularity'])"
   ]
  },
  {
   "cell_type": "markdown",
   "metadata": {},
   "source": [
    "#### 2) What genres are most represented in the search results? Display a list of their genres in the format \"GENRE_1, GENRE_2, GENRE_3\". If there are no genres, print \"No genres listed\"."
   ]
  },
  {
   "cell_type": "code",
   "execution_count": 9,
   "metadata": {
    "collapsed": false
   },
   "outputs": [
    {
     "name": "stdout",
     "output_type": "stream",
     "text": [
      "Lil Wayne 86 Genre: dirty south rap, pop rap, southern hip hop, trap music\n",
      "Lil Yachty 72 Genre: \n",
      "No genres listed\n",
      "Lil Uzi Vert 73 Genre: \n",
      "No genres listed\n",
      "Lil Dicky 68 Genre: \n",
      "No genres listed\n",
      "Boosie Badazz 67 Genre: \n",
      "No genres listed\n",
      "Lil Jon 72 Genre: crunk, dirty south rap, southern hip hop\n",
      "King Lil G 61 Genre: \n",
      "No genres listed\n",
      "Lil Durk 60 Genre: \n",
      "No genres listed\n",
      "Lil Jon & The East Side Boyz 60 Genre: \n",
      "No genres listed\n",
      "Lil Bibby 54 Genre: \n",
      "No genres listed\n",
      "G Herbo 53 Genre: \n",
      "No genres listed\n",
      "Lil Rob 50 Genre: chicano rap, latin hip hop\n",
      "Lil Reese 50 Genre: \n",
      "No genres listed\n",
      "Lil Keke 48 Genre: \n",
      "No genres listed\n",
      "Bow Wow 57 Genre: hip pop, pop rap\n",
      "Lil Scrappy 48 Genre: crunk, dirty south rap, southern hip hop, trap music\n",
      "Lil Wyte 50 Genre: juggalo\n",
      "Lil Blood 45 Genre: \n",
      "No genres listed\n",
      "Lil Snupe 45 Genre: \n",
      "No genres listed\n",
      "Lil Mama 45 Genre: hip pop\n",
      "Lil B 44 Genre: \n",
      "No genres listed\n",
      "Lil' Kim 62 Genre: hip pop\n",
      "Lil Cuete 40 Genre: chicano rap\n",
      "Lil Phat 39 Genre: \n",
      "No genres listed\n",
      "Lil Debbie 43 Genre: \n",
      "No genres listed\n",
      "Lil Twist 39 Genre: jerk\n",
      "Lil Trill 37 Genre: deep trap\n",
      "Lil Boom 39 Genre: \n",
      "No genres listed\n",
      "Lil Twon 37 Genre: \n",
      "No genres listed\n",
      "Lil AJ 37 Genre: \n",
      "No genres listed\n",
      "Lil Lonnie 37 Genre: \n",
      "No genres listed\n",
      "Lil Goofy 35 Genre: \n",
      "No genres listed\n",
      "Lil Haiti 36 Genre: \n",
      "No genres listed\n",
      "Mr. Lil One 36 Genre: chicano rap\n",
      "Lil Cray 35 Genre: \n",
      "No genres listed\n",
      "Lil Flash 38 Genre: \n",
      "No genres listed\n",
      "Lil Silva 43 Genre: \n",
      "No genres listed\n",
      "Lil Kesh 39 Genre: \n",
      "No genres listed\n",
      "Lil Rue 34 Genre: \n",
      "No genres listed\n",
      "Lil Yase 34 Genre: \n",
      "No genres listed\n",
      "Lil Eddie 41 Genre: \n",
      "No genres listed\n",
      "Lil Wayne, DJ Drama 35 Genre: \n",
      "No genres listed\n",
      "Lil Suzy 34 Genre: freestyle\n",
      "Lil Mouse 34 Genre: \n",
      "No genres listed\n",
      "Lil C 33 Genre: \n",
      "No genres listed\n",
      "Lil Rick 39 Genre: soca\n",
      "Lil June 32 Genre: \n",
      "No genres listed\n",
      "Lil E 34 Genre: \n",
      "No genres listed\n",
      "Lil Fate 34 Genre: \n",
      "No genres listed\n",
      "Lil' Flip 49 Genre: crunk, dirty south rap\n"
     ]
    }
   ],
   "source": [
    "for artist in lil_data:\n",
    "    print(artist['name'], artist['popularity'],\"Genre:\", (\", \" .join(artist['genres'])))\n",
    "    if not artist['genres'] :\n",
    "        print (\"No genres listed\")"
   ]
  },
  {
   "cell_type": "code",
   "execution_count": 10,
   "metadata": {
    "collapsed": false
   },
   "outputs": [
    {
     "name": "stdout",
     "output_type": "stream",
     "text": [
      "['crunk', 'dirty south rap', 'soca', 'freestyle', 'chicano rap', 'deep trap', 'jerk', 'chicano rap', 'hip pop', 'hip pop', 'juggalo', 'crunk', 'dirty south rap', 'southern hip hop', 'trap music', 'hip pop', 'pop rap', 'chicano rap', 'latin hip hop', 'crunk', 'dirty south rap', 'southern hip hop', 'dirty south rap', 'pop rap', 'southern hip hop', 'trap music']\n",
      "latin hip hop 1\n",
      "pop rap 2\n",
      "southern hip hop 3\n",
      "hip pop 3\n",
      "soca 1\n",
      "crunk 3\n",
      "deep trap 1\n",
      "dirty south rap 4\n",
      "freestyle 1\n",
      "jerk 1\n",
      "juggalo 1\n",
      "chicano rap 3\n",
      "trap music 2\n"
     ]
    }
   ],
   "source": [
    "genres = []\n",
    "for item in lil_data :\n",
    "    genres = item['genres'] + genres\n",
    "print(genres)\n",
    "\n",
    "genre_info = set(genres)\n",
    "for genre in genre_info :\n",
    "    print(genre, genres.count(genre))"
   ]
  },
  {
   "cell_type": "code",
   "execution_count": 11,
   "metadata": {
    "collapsed": false
   },
   "outputs": [
    {
     "name": "stdout",
     "output_type": "stream",
     "text": [
      "4\n"
     ]
    }
   ],
   "source": [
    "genre_biggest = 0 \n",
    "for genre in genre_info:\n",
    "    if genres.count(genre) > genre_biggest:\n",
    "        genre_biggest = genres.count(genre)\n",
    "print(genre_biggest)"
   ]
  },
  {
   "cell_type": "markdown",
   "metadata": {},
   "source": [
    "#### 3a) Use a for loop to determine who BESIDES Lil Wayne has the highest popularity rating. "
   ]
  },
  {
   "cell_type": "code",
   "execution_count": 12,
   "metadata": {
    "collapsed": false
   },
   "outputs": [
    {
     "name": "stdout",
     "output_type": "stream",
     "text": [
      "73\n"
     ]
    }
   ],
   "source": [
    "largest_popularity = 0 \n",
    "for artist_popularity in lil_data:\n",
    "    if artist_popularity['popularity'] > largest_popularity and artist_popularity['popularity'] < 86:\n",
    "        largest_popularity = artist_popularity['popularity']\n",
    "print(largest_popularity)"
   ]
  },
  {
   "cell_type": "code",
   "execution_count": 13,
   "metadata": {
    "collapsed": false
   },
   "outputs": [
    {
     "name": "stdout",
     "output_type": "stream",
     "text": [
      "Lil Yachty 73\n",
      "Lil Jon 73\n"
     ]
    }
   ],
   "source": [
    "for artist_popularity in lil_data:\n",
    "    if artist_popularity['popularity'] == 72 :\n",
    "        print (artist_popularity['name'], largest_popularity)"
   ]
  },
  {
   "cell_type": "markdown",
   "metadata": {},
   "source": [
    "#### 3b) Is it the same artist who has the largest number of followers?"
   ]
  },
  {
   "cell_type": "code",
   "execution_count": 14,
   "metadata": {
    "collapsed": false
   },
   "outputs": [
    {
     "name": "stdout",
     "output_type": "stream",
     "text": [
      "The largest number of followers is 2625877\n"
     ]
    }
   ],
   "source": [
    "largest_followers = 0\n",
    "for artist_followers in lil_data:\n",
    "    if artist_followers['followers']['total'] > largest_followers:\n",
    "        largest_followers = artist_followers['followers']['total']\n",
    "print(\"The largest number of followers is\",largest_followers)"
   ]
  },
  {
   "cell_type": "code",
   "execution_count": 15,
   "metadata": {
    "collapsed": false
   },
   "outputs": [
    {
     "name": "stdout",
     "output_type": "stream",
     "text": [
      "Not the same artist.\n"
     ]
    }
   ],
   "source": [
    "for artist_followers in lil_data:\n",
    "    if artist_followers['followers']['total'] == 2622977:\n",
    "        print(artist_followers['name'],\"has the largest number of followers.\")\n",
    "if artist_followers['name'] != \"Lil Yachty\" or artist_followers['name'] != \"Lil Uzi Vert\" or artist_followers['name'] != \"Lil Jon\":\n",
    "    print(\"Not the same artist.\")"
   ]
  },
  {
   "cell_type": "markdown",
   "metadata": {},
   "source": [
    "#### 4) Print a list of Lil's that are more popular than Lil' Kim."
   ]
  },
  {
   "cell_type": "code",
   "execution_count": 16,
   "metadata": {
    "collapsed": false
   },
   "outputs": [
    {
     "name": "stdout",
     "output_type": "stream",
     "text": [
      "Lil Wayne\n",
      "Lil Yachty\n",
      "Lil Uzi Vert\n",
      "Lil Dicky\n",
      "Boosie Badazz\n",
      "Lil Jon\n"
     ]
    }
   ],
   "source": [
    "for artist in lil_data:\n",
    "    if artist['popularity'] > 62 :\n",
    "        print(artist['name'])"
   ]
  },
  {
   "cell_type": "markdown",
   "metadata": {},
   "source": [
    "#### 5) Pick two of your favorite Lils to fight it out, and use their IDs to print out their top tracks."
   ]
  },
  {
   "cell_type": "code",
   "execution_count": 17,
   "metadata": {
    "collapsed": false
   },
   "outputs": [
    {
     "name": "stdout",
     "output_type": "stream",
     "text": [
      "Lil Wayne 55Aa2cqylxrFIXC767Z865\n",
      "Lil Yachty 6icQOAFXDZKsumw3YXyusw\n",
      "Lil Uzi Vert 4O15NlyKLIASxsJ0PrXPfz\n",
      "Lil Dicky 1tqhsYv8yBBdwANFNzHtcr\n",
      "Boosie Badazz 6z7xFFHxYkE9t8bwIF0Bvg\n",
      "Lil Jon 7sfl4Xt5KmfyDs2T3SVSMK\n",
      "King Lil G 6L3x3if9RVimruryD9LoFb\n",
      "Lil Durk 3hcs9uc56yIGFCSy9leWe7\n",
      "Lil Jon & The East Side Boyz 3ciRvbBIVz9fBoPbtSYq4x\n",
      "Lil Bibby 4uSN8Y3kgFNVULUWsZEAVW\n",
      "G Herbo 5QdEbQJ3ylBnc3gsIASAT5\n",
      "Lil Rob 7B7TGqQe7QTVm2U6q8jzk1\n",
      "Lil Reese 1bPxKZtCdjB1aj1csBJpdS\n",
      "Lil Keke 1grI9x4Uzos1Asx8JmRW6T\n",
      "Bow Wow 7352aRY2mqSxBZwzUb6LmA\n",
      "Lil Scrappy 5einkgXXrjhfYCyac1FANB\n",
      "Lil Wyte 21O7WwRkik43ErKppxDKJq\n",
      "Lil Blood 74nSA5FdDOuuLw7Rn5JnuP\n",
      "Lil Snupe 42FaEHFfyxTdZQ5W28dXnj\n",
      "Lil Mama 5qK5bOC6wLtuLhG5KvU17c\n",
      "Lil B 4dqh62yIzDBmrMeBOLiP5F\n",
      "Lil' Kim 5tth2a3v0sWwV1C7bApBdX\n",
      "Lil Cuete 1I5u5Umau1AgHl0ZbPL1oR\n",
      "Lil Phat 3QnIBUOS4mUzs67rZ8r4c9\n",
      "Lil Debbie 3FNZcjyqT7F5upP99JV0oN\n",
      "Lil Twist 564gvOqSRcQoYAhaBpTiK2\n",
      "Lil Trill 5EQERGi7ffHvHsv3bnqzBn\n",
      "Lil Boom 1mmlWsyPJvvxMdabcGJjRn\n",
      "Lil Twon 5YZZbPdI7P7te3lW3dTpzK\n",
      "Lil AJ 2jXwYLNnCxNavms4mc1DYM\n",
      "Lil Lonnie 6zSBkdKFLKKggDtE3amfCk\n",
      "Lil Goofy 3rWaFjgOi5mjQfllMfN3VI\n",
      "Lil Haiti 4E9dumwOMLlTyXUp1i2WdI\n",
      "Mr. Lil One 6tslWi0BXiDdtChermDzkU\n",
      "Lil Cray 43BqexhEx5NKF7VfeOYP9m\n",
      "Lil Flash 069qBEK34YGoX7nSIT74Eg\n",
      "Lil Silva 2Kv0ApBohrL213X9avMrEn\n",
      "Lil Kesh 38XiDu0kK3Z5jdHUDqBzNT\n",
      "Lil Rue 4IFVaKBbEO8Qkurg6nmoc4\n",
      "Lil Yase 4vIlHBnzWKbmWe8ZOkT1ZT\n",
      "Lil Eddie 5CY0QKsbUBpQJIE2yycsYi\n",
      "Lil Wayne, DJ Drama 65npPa1U4cgobX9wU7Jgpb\n",
      "Lil Suzy 5HPsVk1MblCoa44WLJsQwN\n",
      "Lil Mouse 1cEHxCgGlEgqBc91YOcAEQ\n",
      "Lil C 69swdLSkKxCQBMYJ55O2mA\n",
      "Lil Rick 1qKzKUnuQsjB83hBZffoq0\n",
      "Lil June 3GH3KD2078kLPpEkN1UN26\n",
      "Lil E 0zn6yzsbWj3EPMgOTqfG5k\n",
      "Lil Fate 6JUnsP7jmvYmdhbg7lTMQj\n",
      "Lil' Flip 4Q5sPmM8j4SpMqL4UA1DtS\n"
     ]
    }
   ],
   "source": [
    "for artist in lil_data:\n",
    "    print (artist['name'], artist['id'])"
   ]
  },
  {
   "cell_type": "code",
   "execution_count": 63,
   "metadata": {
    "collapsed": false
   },
   "outputs": [
    {
     "name": "stdout",
     "output_type": "stream",
     "text": [
      "Summer Nights\n",
      "Summer Nights\n",
      "Pretty Girl - Remix\n",
      "Neighborhood Music\n",
      "I Like the Way You Love Me\n",
      "Linda Mujer\n",
      "Oldie (feat. Mr. Sancho & OG Spanish Fly)\n",
      "California\n",
      "Barely Getting By\n",
      "Soy Chingon\n"
     ]
    }
   ],
   "source": [
    "# Lil Rob: 7B7TGqQe7QTVm2U6q8jzk1\n",
    "response = requests.get(\"https://api.spotify.com/v1/artists/7B7TGqQe7QTVm2U6q8jzk1/top-tracks?country=US\")\n",
    "Lil_Rob = response.json()\n",
    "tracks = Lil_Rob['tracks']\n",
    "for track in tracks:\n",
    "    print(track['name'])"
   ]
  },
  {
   "cell_type": "code",
   "execution_count": 73,
   "metadata": {
    "collapsed": false
   },
   "outputs": [
    {
     "name": "stdout",
     "output_type": "stream",
     "text": [
      "BBE Challenge\n",
      "Certified Freak (feat. Beatking)\n",
      "Solid (feat. D Bo & Kevin Gates)\n",
      "Dat $tick (feat. Yung Navo)\n",
      "Thugged Out (feat. Ralph)\n",
      "Skrilla\n",
      "Street Life (feat. Kevin Gates)\n",
      "I Deserve Ya\n",
      "Fuckin' Dat (feat. D Bo)\n",
      "Young Wild and Reckless\n"
     ]
    }
   ],
   "source": [
    "# Lil E 0zn6yzsbWj3EPMgOTqfG5k\n",
    "response = requests.get(\"https://api.spotify.com/v1/artists/0zn6yzsbWj3EPMgOTqfG5k/top-tracks?country=US\")\n",
    "Lil_E = response.json()\n",
    "tracks = Lil_E['tracks']\n",
    "for track in tracks:\n",
    "    print(track['name'])"
   ]
  },
  {
   "cell_type": "markdown",
   "metadata": {},
   "source": [
    "#### 6) Get an average popularity for their explicit songs vs. their non-explicit songs. How many minutes of explicit songs do they have? Non-explicit?"
   ]
  },
  {
   "cell_type": "code",
   "execution_count": 108,
   "metadata": {
    "collapsed": false
   },
   "outputs": [
    {
     "name": "stdout",
     "output_type": "stream",
     "text": [
      "Explicit songs's average popularity is 39.5 . They have 26.025316666666665 minutes long.\n",
      "None explicit songs's average popularity is 41.75 . They have 15.602183333333333 minutes long.\n"
     ]
    }
   ],
   "source": [
    "# Lil Rob: 7B7TGqQe7QTVm2U6q8jzk1\n",
    "response = requests.get(\"https://api.spotify.com/v1/artists/7B7TGqQe7QTVm2U6q8jzk1/top-tracks?country=US\")\n",
    "Lil_Rob = response.json()\n",
    "\n",
    "tracks = Lil_Rob['tracks']\n",
    "\n",
    "explicit_count = 0\n",
    "explicit_popularity = 0\n",
    "non_explicit_count = 0\n",
    "non_explicit_popularity = 0 \n",
    "explicit_duration_ms = 0\n",
    "non_explicit_duration_ms = 0\n",
    "#avg_explicit_popularity = explicit_popularity/explicit_count\n",
    "#avg_non_explicit_popularity = non_explicit_popularity/non_explicit_count\n",
    "\n",
    "for track in tracks:\n",
    "    if track['explicit']:\n",
    "        explicit_popularity = explicit_popularity + track['popularity']\n",
    "        explicit_count = explicit_count + 1\n",
    "        explicit_duration_ms = explicit_duration_ms + track['duration_ms']\n",
    "        avg_explicit_popularity = explicit_popularity / explicit_count\n",
    "        explicit_duration_min = explicit_duration_ms / 60000\n",
    "    if not track['explicit']:\n",
    "        non_explicit_popularity = non_explicit_popularity + track['popularity']\n",
    "        non_explicit_count = non_explicit_count + 1\n",
    "        non_explicit_duration_ms = non_explicit_duration_ms + track['duration_ms']\n",
    "        avg_non_explicit_popularity = non_explicit_popularity/non_explicit_count\n",
    "        non_explicit_duration_min = non_explicit_duration_ms / 60000\n",
    "print(\"Explicit songs's average popularity is\",avg_explicit_popularity, '.', \n",
    "      'They have', explicit_duration_min, 'minutes long.')\n",
    "print(\"None explicit songs's average popularity is\", avg_non_explicit_popularity,'.',\n",
    "      'They have', non_explicit_duration_min, 'minutes long.')\n",
    "\n"
   ]
  },
  {
   "cell_type": "code",
   "execution_count": 109,
   "metadata": {
    "collapsed": false,
    "scrolled": true
   },
   "outputs": [
    {
     "name": "stdout",
     "output_type": "stream",
     "text": [
      "Explicit songs's average popularity is 6.428571428571429 . They have 25.935783333333333 minutes long.\n",
      "None explicit songs's average popularity is 16.666666666666668 . They have 7.264783333333333 minutes long.\n"
     ]
    }
   ],
   "source": [
    "# Lil E 0zn6yzsbWj3EPMgOTqfG5k\n",
    "response = requests.get(\"https://api.spotify.com/v1/artists/0zn6yzsbWj3EPMgOTqfG5k/top-tracks?country=US\")\n",
    "Lil_E = response.json()\n",
    "\n",
    "tracks = Lil_E['tracks']\n",
    "\n",
    "explicit_count = 0\n",
    "explicit_popularity = 0\n",
    "non_explicit_count = 0\n",
    "non_explicit_popularity = 0 \n",
    "explicit_duration_ms = 0\n",
    "non_explicit_duration_ms = 0\n",
    "#avg_explicit_popularity = explicit_popularity/explicit_count\n",
    "#avg_non_explicit_popularity = non_explicit_popularity/non_explicit_count\n",
    "\n",
    "for track in tracks:\n",
    "    if track['explicit']:\n",
    "        explicit_popularity = explicit_popularity + track['popularity']\n",
    "        explicit_count = explicit_count + 1\n",
    "        explicit_duration_ms = explicit_duration_ms + track['duration_ms']\n",
    "        avg_explicit_popularity = explicit_popularity / explicit_count\n",
    "        explicit_duration_min = explicit_duration_ms / 60000\n",
    "    if not track['explicit']:\n",
    "        non_explicit_popularity = non_explicit_popularity + track['popularity']\n",
    "        non_explicit_count = non_explicit_count + 1\n",
    "        non_explicit_duration_ms = non_explicit_duration_ms + track['duration_ms']\n",
    "        avg_non_explicit_popularity = non_explicit_popularity/non_explicit_count\n",
    "        non_explicit_duration_min = non_explicit_duration_ms / 60000\n",
    "print(\"Explicit songs's average popularity is\",avg_explicit_popularity, '.', \n",
    "      'They have', explicit_duration_min, 'minutes long.')\n",
    "print(\"None explicit songs's average popularity is\", avg_non_explicit_popularity,'.',\n",
    "      'They have', non_explicit_duration_min, 'minutes long.')"
   ]
  },
  {
   "cell_type": "markdown",
   "metadata": {},
   "source": [
    "#### 7) Since we're talking about Lils, what about Biggies? How many total \"Biggie\" artists are there? How many total \"Lil\"s? If you made 1 request every 5 seconds, how long would it take to download information on all the Lils vs the Biggies?"
   ]
  },
  {
   "cell_type": "code",
   "execution_count": 169,
   "metadata": {
    "collapsed": false
   },
   "outputs": [
    {
     "name": "stdout",
     "output_type": "stream",
     "text": [
      "There are 50 Biggies in total.\n",
      "It takes 12.5 seconds to download all the Biggies information.\n"
     ]
    }
   ],
   "source": [
    "response = requests.get('https://api.spotify.com/v1/search?query=Biggie&type=artist&market＝US')\n",
    "Biggies = response.json()\n",
    "# print(Biggies['artists'].keys())\n",
    "total_biggies = Biggies['artists']['total']\n",
    "print('There are', total_biggies, 'Biggies in total.')\n",
    "\n",
    "# TA-COMMENT(-0.5) Hmm, why are you dividing by 20? I think you're thinking about the limit of results when you're\n",
    "# just searching through all artists named \"biggie\" -- but we want to now think about how long it would take to \n",
    "# submit ANOTHER request for each and every biggie that we found in our our first search\n",
    "# so if each request takes 5 seconds, we just want total_biggies * 5\n",
    "\n",
    "request_count = total_biggies / 20\n",
    "sec_count = request_count * 5\n",
    "print('It takes', sec_count, 'seconds to download all the Biggies information.')"
   ]
  },
  {
   "cell_type": "code",
   "execution_count": 170,
   "metadata": {
    "collapsed": false
   },
   "outputs": [
    {
     "name": "stdout",
     "output_type": "stream",
     "text": [
      "There are 4510 Lils in total.\n",
      "It takes 1127.5 seconds to download all the Lils information.\n"
     ]
    }
   ],
   "source": [
    "response = requests.get('https://api.spotify.com/v1/search?query=Lil&type=artist&market＝US')\n",
    "Lils = response.json()\n",
    "total_lils = Lils['artists']['total']\n",
    "print(\"There are\", Lils['artists']['total'], \"Lils in total.\")\n",
    "request_count = total_lils / 20\n",
    "sec_count = request_count * 5\n",
    "print('It takes', sec_count, 'seconds to download all the Lils information.')"
   ]
  },
  {
   "cell_type": "markdown",
   "metadata": {},
   "source": [
    "#### 8) Out of the top 50 \"Lil\"s and the top 50 \"Biggie\"s, who is more popular on average?"
   ]
  },
  {
   "cell_type": "code",
   "execution_count": 539,
   "metadata": {
    "collapsed": false
   },
   "outputs": [
    {
     "name": "stdout",
     "output_type": "stream",
     "text": [
      "Average popularity of Biggies is 3.86\n"
     ]
    }
   ],
   "source": [
    "response = requests.get('https://api.spotify.com/v1/search?query=Biggie&limit=50&type=artist&market＝US')\n",
    "Biggies = response.json()\n",
    "biggie_data = Biggies['artists']['items']\n",
    "count_pop = 0\n",
    "for biggie in biggie_data:\n",
    "    count_pop = biggie['popularity'] + count_pop\n",
    "print(\"Average popularity of Biggies is\", count_pop/50)"
   ]
  },
  {
   "cell_type": "code",
   "execution_count": 543,
   "metadata": {
    "collapsed": false
   },
   "outputs": [
    {
     "name": "stdout",
     "output_type": "stream",
     "text": [
      "2313\n",
      "Average popularity of Lils is 46.26\n"
     ]
    }
   ],
   "source": [
    "response = requests.get('https://api.spotify.com/v1/search?query=Lil&limit=50&type=artist&market＝US')\n",
    "Lils = response.json()\n",
    "Lil_data = Lils['artists']['items']\n",
    "count_pop = 0\n",
    "for Lil in Lil_data:\n",
    "    count_pop = Lil['popularity'] + count_pop\n",
    "print(count_pop)\n",
    "print(\"Average popularity of Lils is\", count_pop/50)"
   ]
  },
  {
   "cell_type": "markdown",
   "metadata": {},
   "source": [
    "# NYT"
   ]
  },
  {
   "cell_type": "markdown",
   "metadata": {},
   "source": [
    "#### 1) What books topped the Hardcover Fiction NYT best-sellers list on Mother's Day in 2009 and 2010? How about Father's Day?"
   ]
  },
  {
   "cell_type": "code",
   "execution_count": 290,
   "metadata": {
    "collapsed": false
   },
   "outputs": [
    {
     "name": "stdout",
     "output_type": "stream",
     "text": [
      "FIRST FAMILY\n",
      "TEA TIME FOR THE TRADITIONALLY BUILT\n",
      "LOITERING WITH INTENT\n",
      "JUST TAKE MY HEART\n",
      "THE PERFECT POISON\n",
      "THE HOST\n",
      "LOOK AGAIN\n",
      "DEADLOCK\n",
      "LONG LOST\n",
      "TURN COAT\n",
      "THE ASSOCIATE\n",
      "HANDLE WITH CARE\n",
      "THE HELP\n",
      "THE GUERNSEY LITERARY AND POTATO PEEL PIE SOCIETY\n",
      "FATALLY FLAKY\n",
      "ARTHAS\n",
      "A RELIABLE WIFE\n",
      "BORDERLINE\n",
      "ONE SECOND AFTER\n",
      "BONEMAN'S DAUGHTERS\n"
     ]
    }
   ],
   "source": [
    "# books API: c18b567567c749a2a2804742d60f7dd5\n",
    "\n",
    "# Books topped on Mother's Day in 2009\n",
    "response = requests.get('http://api.nytimes.com/svc/books/v2/lists/2009-05-10/hardcover-fiction.json?api-key=c18b567567c749a2a2804742d60f7dd5')\n",
    "data = response.json()\n",
    "\n",
    "books = data['results']\n",
    "for book in books:\n",
    "    print(book['book_details'][0]['title'])"
   ]
  },
  {
   "cell_type": "code",
   "execution_count": 291,
   "metadata": {
    "collapsed": false
   },
   "outputs": [
    {
     "name": "stdout",
     "output_type": "stream",
     "text": [
      "DELIVER US FROM EVIL\n",
      "THE HELP\n",
      "THE DOUBLE COMFORT SAFARI CLUB\n",
      "THIS BODY OF DEATH\n",
      "LUCID INTERVALS\n",
      "THE SHADOW OF YOUR SMILE\n",
      "BURNING LAMP\n",
      "EVERY LAST ONE\n",
      "EIGHT DAYS TO LIVE\n",
      "CHANGES\n",
      "CAUGHT\n",
      "HOUSE RULES\n",
      "MATTERHORN\n",
      "THE WALK\n",
      "DECEPTION\n",
      "BEATRICE AND VIRGIL\n",
      "WRECKED\n",
      "SILVER BORNE\n",
      "ABRAHAM LINCOLN: VAMPIRE HUNTER\n",
      "A RIVER IN THE SKY\n"
     ]
    }
   ],
   "source": [
    "# Books topped on Mother's Day in 2010\n",
    "response = requests.get('http://api.nytimes.com/svc/books/v2/lists/2010-05-09/hardcover-fiction.json?api-key=c18b567567c749a2a2804742d60f7dd5')\n",
    "data = response.json()\n",
    "\n",
    "books = data['results']\n",
    "for book in books:\n",
    "    print(book['book_details'][0]['title'])"
   ]
  },
  {
   "cell_type": "code",
   "execution_count": 289,
   "metadata": {
    "collapsed": false
   },
   "outputs": [
    {
     "name": "stdout",
     "output_type": "stream",
     "text": [
      "SKIN TRADE\n",
      "MEDUSA\n",
      "THE SCARECROW\n",
      "SHANGHAI GIRLS\n",
      "MATTERS OF THE HEART\n",
      "GONE TOMORROW\n",
      "DEAD AND GONE\n",
      "THE 8TH CONFESSION\n",
      "THE STRAIN\n",
      "WICKED PREY\n",
      "THE HOST\n",
      "FIRST FAMILY\n",
      "CEMETERY DANCE\n",
      "UNDEAD AND UNWELCOME\n",
      "THE HELP\n",
      "PYGMY\n",
      "MY FATHER'S TEARS AND OTHER STORIES\n",
      "ROAD DOGS\n",
      "THE STORY SISTERS\n",
      "HEARTLESS\n"
     ]
    }
   ],
   "source": [
    "## Books topped on Father's Day in 2009\n",
    "response = requests.get('http://api.nytimes.com/svc/books/v2/lists/2009-06-21/hardcover-fiction.json?api-key=c18b567567c749a2a2804742d60f7dd5')\n",
    "data = response.json()\n",
    "\n",
    "books = data['results']\n",
    "for book in books:\n",
    "    print(book['book_details'][0]['title'])"
   ]
  },
  {
   "cell_type": "code",
   "execution_count": 288,
   "metadata": {
    "collapsed": false
   },
   "outputs": [
    {
     "name": "stdout",
     "output_type": "stream",
     "text": [
      "THE GIRL WHO KICKED THE HORNET’S NEST\n",
      "BULLET\n",
      "THE SPY\n",
      "THE HELP\n",
      "DEAD IN THE FAMILY\n",
      "61 HOURS\n",
      "THE BURNING WIRE\n",
      "STORM PREY\n",
      "THE BOURNE OBJECTIVE\n",
      "INNOCENT\n",
      "HEART OF THE MATTER\n",
      "THE 9TH JUDGMENT\n",
      "BLOCKADE BILLY\n",
      "ALLIES\n",
      "THE RULE OF NINE\n",
      "FEVER DREAM\n",
      "DELIVER US FROM EVIL\n",
      "MATTERHORN\n",
      "THE PARTICULAR SADNESS OF LEMON CAKE\n",
      "DANGEROUS\n"
     ]
    }
   ],
   "source": [
    "## Books topped on Father's Day in 2010\n",
    "response = requests.get('http://api.nytimes.com/svc/books/v2/lists/2010-06-20/hardcover-fiction.json?api-key=c18b567567c749a2a2804742d60f7dd5')\n",
    "data = response.json()\n",
    "\n",
    "books = data['results']\n",
    "for book in books:\n",
    "    print(book['book_details'][0]['title'])"
   ]
  },
  {
   "cell_type": "markdown",
   "metadata": {},
   "source": [
    "#### 2) What are all the different book categories the NYT ranked in June 6, 2009? How about June 6, 2015?"
   ]
  },
  {
   "cell_type": "code",
   "execution_count": 287,
   "metadata": {
    "collapsed": false
   },
   "outputs": [
    {
     "name": "stdout",
     "output_type": "stream",
     "text": [
      "Hardcover Fiction\n",
      "Hardcover Nonfiction\n",
      "Trade Fiction Paperback\n",
      "Mass Market Paperback\n",
      "Paperback Nonfiction\n",
      "Hardcover Advice\n",
      "Paperback Advice\n",
      "Chapter Books\n",
      "Paperback Books\n",
      "Picture Books\n",
      "Series Books\n",
      "Hardcover Graphic Books\n",
      "Paperback Graphic Books\n",
      "Manga\n"
     ]
    }
   ],
   "source": [
    "# Book categories in June 6,2009\n",
    "response = requests.get('http://api.nytimes.com/svc/books/v2/lists/names.json?date=2009-06-06&api-key=c18b567567c749a2a2804742d60f7dd5')\n",
    "data = response.json()\n",
    "data.keys()\n",
    "categories = data['results']\n",
    "for cat in categories:\n",
    "    print(cat['list_name'])"
   ]
  },
  {
   "cell_type": "code",
   "execution_count": 285,
   "metadata": {
    "collapsed": false,
    "scrolled": true
   },
   "outputs": [
    {
     "name": "stdout",
     "output_type": "stream",
     "text": [
      "Combined Print and E-Book Fiction\n",
      "Combined Print and E-Book Nonfiction\n",
      "Hardcover Fiction\n",
      "Hardcover Nonfiction\n",
      "Trade Fiction Paperback\n",
      "Mass Market Paperback\n",
      "Paperback Nonfiction\n",
      "E-Book Fiction\n",
      "E-Book Nonfiction\n",
      "Advice How-To and Miscellaneous\n",
      "Childrens Middle Grade\n",
      "Picture Books\n",
      "Series Books\n",
      "Young Adult\n",
      "Hardcover Graphic Books\n",
      "Paperback Graphic Books\n",
      "Manga\n",
      "Animals\n",
      "Business Books\n",
      "Celebrities\n",
      "Crime and Punishment\n",
      "Culture\n",
      "Education\n",
      "Espionage\n",
      "Expeditions Disasters and Adventures\n",
      "Fashion Manners and Customs\n",
      "Food and Fitness\n",
      "Games and Activities\n",
      "Health\n",
      "Humor\n",
      "Indigenous Americans\n",
      "Relationships\n",
      "Family\n",
      "Hardcover Political Books\n",
      "Race and Civil Rights\n",
      "Religion Spirituality and Faith\n",
      "Science\n",
      "Sports\n",
      "Travel\n"
     ]
    }
   ],
   "source": [
    "# Book categories in June 6,2015\n",
    "response = requests.get('http://api.nytimes.com/svc/books/v2/lists/names.json?date=2015-06-06&api-key=c18b567567c749a2a2804742d60f7dd5')\n",
    "data = response.json()\n",
    "data.keys()\n",
    "categories = data['results']\n",
    "for cat in categories:\n",
    "    print(cat['list_name'])"
   ]
  },
  {
   "cell_type": "markdown",
   "metadata": {},
   "source": [
    "#### 3) Muammar Gaddafi's name can be transliterated many many ways. His last name is often a source of a million and one versions - Gadafi, Gaddafi, Kadafi, and Qaddafi to name a few. How many times has the New York Times referred to him by each of those names?\n",
    "Tip: Add \"Libya\" to your search to make sure (-ish) you're talking about the right guy."
   ]
  },
  {
   "cell_type": "code",
   "execution_count": 418,
   "metadata": {
    "collapsed": false
   },
   "outputs": [
    {
     "name": "stdout",
     "output_type": "stream",
     "text": [
      "Last name 'Gaddafi' shows 1030 times.\n"
     ]
    }
   ],
   "source": [
    "# Article API: bfab4def30f54e33ad18f97a4d13fcbc\n",
    "response = requests.get('http://api.nytimes.com/svc/search/v2/articlesearch.json?q=Gaddafi+Libya&api-key=bfab4def30f54e33ad18f97a4d13fcbc')\n",
    "Gaddafi_data = response.json()\n",
    "print(\"Last name 'Gaddafi' shows\", Gaddafi_data['response']['meta']['hits'],'times.')"
   ]
  },
  {
   "cell_type": "code",
   "execution_count": 318,
   "metadata": {
    "collapsed": false
   },
   "outputs": [
    {
     "name": "stdout",
     "output_type": "stream",
     "text": [
      "Last name 'Gadafi' shows 0 times.\n"
     ]
    }
   ],
   "source": [
    "response = requests.get('http://api.nytimes.com/svc/search/v2/articlesearch.json?q=Gadafi+Libya&api-key=bfab4def30f54e33ad18f97a4d13fcbc')\n",
    "Gadafi_data = response.json()\n",
    "print(\"Last name 'Gadafi' shows\", Gadafi_data['response']['meta']['hits'],'times.')"
   ]
  },
  {
   "cell_type": "code",
   "execution_count": 420,
   "metadata": {
    "collapsed": false
   },
   "outputs": [
    {
     "name": "stdout",
     "output_type": "stream",
     "text": [
      "Last name 'Kadafi' shows 4 times.\n"
     ]
    }
   ],
   "source": [
    "response = requests.get('http://api.nytimes.com/svc/search/v2/articlesearch.json?q=Kadafi+Libya&api-key=bfab4def30f54e33ad18f97a4d13fcbc')\n",
    "Kadafi_data = response.json()\n",
    "print(\"Last name 'Kadafi' shows\", Kadafi_data['response']['meta']['hits'],'times.')"
   ]
  },
  {
   "cell_type": "code",
   "execution_count": 422,
   "metadata": {
    "collapsed": false
   },
   "outputs": [
    {
     "name": "stdout",
     "output_type": "stream",
     "text": [
      "Last name 'Qaddafi' shows 5688 times.\n"
     ]
    }
   ],
   "source": [
    "response = requests.get('http://api.nytimes.com/svc/search/v2/articlesearch.json?q=Qaddafi+Libya&api-key=bfab4def30f54e33ad18f97a4d13fcbc')\n",
    "Qaddafi_data = response.json()\n",
    "print(\"Last name 'Qaddafi' shows\", Qaddafi_data['response']['meta']['hits'],'times.')"
   ]
  },
  {
   "cell_type": "markdown",
   "metadata": {},
   "source": [
    "#### 4) What's the title of the first story to mention the word 'hipster' in 1995? What's the first paragraph?"
   ]
  },
  {
   "cell_type": "code",
   "execution_count": 358,
   "metadata": {
    "collapsed": false
   },
   "outputs": [
    {
     "name": "stdout",
     "output_type": "stream",
     "text": [
      "SOUND\n"
     ]
    }
   ],
   "source": [
    "response = requests.get('http://api.nytimes.com/svc/search/v2/articlesearch.json?q=hipster&begin_date=19950101&end_date=19951231&sort=oldest&api-key=bfab4def30f54e33ad18f97a4d13fcbc')\n",
    "hipster_data = response.json()\n",
    "first_hipster = hipster_data['response']['docs'][0]\n",
    "title = first_hipster['headline']['main']\n",
    "print(title)"
   ]
  },
  {
   "cell_type": "code",
   "execution_count": 365,
   "metadata": {
    "collapsed": false
   },
   "outputs": [
    {
     "name": "stdout",
     "output_type": "stream",
     "text": [
      "Portable record players with built-in speakers, from the 1960's, are the latest points on hipster score cards. In some cases, they are the only way to listen to many of the old LP or 45-r.p.m. recordings still around but not released on cassette or CD. Usually available in white plastic or metal, they can be found in flea markets and secondhand stores. One style has the arm cast in the shape of a cobra. (Don Hogan Charles/The New York Times)\n"
     ]
    }
   ],
   "source": [
    "first_paragrah = first_hipster['lead_paragraph']\n",
    "print(first_paragrah)"
   ]
  },
  {
   "cell_type": "markdown",
   "metadata": {},
   "source": [
    "#### 5) How many times was gay marriage mentioned in the NYT between 1950-1959, 1960-1969, 1970-1978, 1980-1989, 1990-2099, 2000-2009, and 2010-present?\n"
   ]
  },
  {
   "cell_type": "code",
   "execution_count": 544,
   "metadata": {
    "collapsed": false
   },
   "outputs": [
    {
     "name": "stdout",
     "output_type": "stream",
     "text": [
      "0 times gay marriage was mentioned between 1950-1959.\n"
     ]
    }
   ],
   "source": [
    "# 1950-1959\n",
    "response = requests.get('http://api.nytimes.com/svc/search/v2/articlesearch.json?q=\"gay marriage\"&begin_date=19500101&end_date=19591231&api-key=bfab4def30f54e33ad18f97a4d13fcbc')\n",
    "data1 = response.json()\n",
    "print(data1['response']['meta']['hits'], 'times gay marriage was mentioned between 1950-1959.')"
   ]
  },
  {
   "cell_type": "code",
   "execution_count": 545,
   "metadata": {
    "collapsed": false
   },
   "outputs": [
    {
     "name": "stdout",
     "output_type": "stream",
     "text": [
      "0 times gay marriage was mentioned between 1960-1969.\n"
     ]
    }
   ],
   "source": [
    "# 1960-1969\n",
    "response = requests.get('http://api.nytimes.com/svc/search/v2/articlesearch.json?q=\"gay marriage\"&begin_date=19600101&end_date=19691231&api-key=bfab4def30f54e33ad18f97a4d13fcbc')\n",
    "data2 = response.json()\n",
    "print(data2['response']['meta']['hits'], 'times gay marriage was mentioned between 1960-1969.')"
   ]
  },
  {
   "cell_type": "code",
   "execution_count": 546,
   "metadata": {
    "collapsed": false
   },
   "outputs": [
    {
     "name": "stdout",
     "output_type": "stream",
     "text": [
      "0 times gay marriage was mentioned between 1970-1979.\n"
     ]
    }
   ],
   "source": [
    "# 1970-1979\n",
    "response = requests.get('http://api.nytimes.com/svc/search/v2/articlesearch.json?q=\"gay marriage\"&begin_date=19700101&end_date=19791231&api-key=bfab4def30f54e33ad18f97a4d13fcbc')\n",
    "data3 = response.json()\n",
    "print(data3['response']['meta']['hits'], 'times gay marriage was mentioned between 1970-1979.')"
   ]
  },
  {
   "cell_type": "code",
   "execution_count": 547,
   "metadata": {
    "collapsed": false
   },
   "outputs": [
    {
     "name": "stdout",
     "output_type": "stream",
     "text": [
      "3 times gay marriage was mentioned between 1980-1989.\n"
     ]
    }
   ],
   "source": [
    "# 1980-1989\n",
    "response = requests.get('http://api.nytimes.com/svc/search/v2/articlesearch.json?q=\"gay marriage\"&begin_date=19800101&end_date=19891231&api-key=bfab4def30f54e33ad18f97a4d13fcbc')\n",
    "data4 = response.json()\n",
    "print(data4['response']['meta']['hits'], 'times gay marriage was mentioned between 1980-1989.')"
   ]
  },
  {
   "cell_type": "code",
   "execution_count": 548,
   "metadata": {
    "collapsed": false
   },
   "outputs": [
    {
     "name": "stdout",
     "output_type": "stream",
     "text": [
      "137 times gay marriage was mentioned between 1990-1999.\n"
     ]
    }
   ],
   "source": [
    "# 1990-1999\n",
    "response = requests.get('http://api.nytimes.com/svc/search/v2/articlesearch.json?q=\"gay marriage\"&begin_date=19900101&end_date=19991231&api-key=bfab4def30f54e33ad18f97a4d13fcbc')\n",
    "data5 = response.json()\n",
    "print(data5['response']['meta']['hits'], 'times gay marriage was mentioned between 1990-1999.')"
   ]
  },
  {
   "cell_type": "code",
   "execution_count": 549,
   "metadata": {
    "collapsed": false
   },
   "outputs": [
    {
     "name": "stdout",
     "output_type": "stream",
     "text": [
      "2510 times gay marriage was mentioned between 2000-2009.\n"
     ]
    }
   ],
   "source": [
    "# 2000-2009\n",
    "response = requests.get('http://api.nytimes.com/svc/search/v2/articlesearch.json?q=\"gay marriage\"&begin_date=20000101&end_date=20091231&api-key=bfab4def30f54e33ad18f97a4d13fcbc')\n",
    "data6 = response.json()\n",
    "print(data6['response']['meta']['hits'], 'times gay marriage was mentioned between 2000-2009.')"
   ]
  },
  {
   "cell_type": "code",
   "execution_count": 550,
   "metadata": {
    "collapsed": false
   },
   "outputs": [
    {
     "name": "stdout",
     "output_type": "stream",
     "text": [
      "4756 times gay marriage was mentioned since 2010.\n"
     ]
    }
   ],
   "source": [
    "#2010-present\n",
    "response = requests.get('http://api.nytimes.com/svc/search/v2/articlesearch.json?q=\"gay marriage\"&begin_date=20100101&api-key=bfab4def30f54e33ad18f97a4d13fcbc')\n",
    "data7 = response.json()\n",
    "print(data7['response']['meta']['hits'], 'times gay marriage was mentioned since 2010.')"
   ]
  },
  {
   "cell_type": "markdown",
   "metadata": {},
   "source": [
    "#### 6) What section talks about motorcycles the most?"
   ]
  },
  {
   "cell_type": "code",
   "execution_count": 555,
   "metadata": {
    "collapsed": true
   },
   "outputs": [],
   "source": [
    "response = requests.get('http://api.nytimes.com/svc/search/v2/articlesearch.json?q=motorcycle&facet_field=section_name&api-key=c18b567567c749a2a2804742d60f7dd5')\n",
    "data = response.json()\n"
   ]
  },
  {
   "cell_type": "code",
   "execution_count": 556,
   "metadata": {
    "collapsed": false
   },
   "outputs": [
    {
     "data": {
      "text/plain": [
       "dict_keys(['docs', 'facets', 'meta'])"
      ]
     },
     "execution_count": 556,
     "metadata": {},
     "output_type": "execute_result"
    }
   ],
   "source": [
    "data['response'].keys()"
   ]
  },
  {
   "cell_type": "code",
   "execution_count": 563,
   "metadata": {
    "collapsed": false
   },
   "outputs": [
    {
     "name": "stdout",
     "output_type": "stream",
     "text": [
      "[{'count': 1739, 'term': 'World'}, {'count': 1264, 'term': 'U.S.'}, {'count': 1114, 'term': 'Sports'}, {'count': 1016, 'term': 'New York and Region'}, {'count': 921, 'term': 'Arts'}]\n"
     ]
    }
   ],
   "source": [
    "section = data['response']['facets']['section_name']['terms']\n",
    "print(section)"
   ]
  },
  {
   "cell_type": "code",
   "execution_count": 564,
   "metadata": {
    "collapsed": false
   },
   "outputs": [
    {
     "name": "stdout",
     "output_type": "stream",
     "text": [
      "World section talks about motorcycles the most.\n"
     ]
    }
   ],
   "source": [
    "print(section[0]['term'],'section talks about motorcycles the most.')"
   ]
  },
  {
   "cell_type": "markdown",
   "metadata": {},
   "source": [
    "### 7) How many of the last 20 movies reviewed by the NYT were Critics' Picks? How about the last 40? The last 60?"
   ]
  },
  {
   "cell_type": "code",
   "execution_count": 464,
   "metadata": {
    "collapsed": true
   },
   "outputs": [],
   "source": [
    "#API Key for the Movie Reviews API: c18b567567c749a2a2804742d60f7dd5\n",
    "response = requests.get('http://api.nytimes.com/svc/movies/v2/reviews/search.json?api-key=c18b567567c749a2a2804742d60f7dd5')\n",
    "data = response.json()"
   ]
  },
  {
   "cell_type": "code",
   "execution_count": 465,
   "metadata": {
    "collapsed": false
   },
   "outputs": [
    {
     "data": {
      "text/plain": [
       "dict_keys(['has_more', 'num_results', 'results', 'copyright', 'status'])"
      ]
     },
     "execution_count": 465,
     "metadata": {},
     "output_type": "execute_result"
    }
   ],
   "source": [
    "data.keys()"
   ]
  },
  {
   "cell_type": "code",
   "execution_count": 467,
   "metadata": {
    "collapsed": false
   },
   "outputs": [
    {
     "name": "stdout",
     "output_type": "stream",
     "text": [
      "6 of the last 20 movies reviewed by the NYT were Critics' Picks.\n"
     ]
    }
   ],
   "source": [
    "critics_pick = data['results']\n",
    "count_pick = 0 \n",
    "for pick in critics_pick:\n",
    "    if pick['critics_pick'] == 1:\n",
    "        count_pick = count_pick + 1\n",
    "print(count_pick,\"of the last 20 movies reviewed by the NYT were Critics' Picks.\")"
   ]
  },
  {
   "cell_type": "code",
   "execution_count": 469,
   "metadata": {
    "collapsed": false
   },
   "outputs": [
    {
     "name": "stdout",
     "output_type": "stream",
     "text": [
      "15 of the last 40 movies reviewed by the NYT were Critics' Picks.\n"
     ]
    }
   ],
   "source": [
    "response = requests.get('http://api.nytimes.com/svc/movies/v2/reviews/search.json?offset=20&api-key=c18b567567c749a2a2804742d60f7dd5')\n",
    "data = response.json()\n",
    "critics_pick = data['results']\n",
    "count_pick = 6 \n",
    "for pick in critics_pick:\n",
    "    if pick['critics_pick'] == 1:\n",
    "        count_pick = count_pick + 1\n",
    "print(count_pick,\"of the last 40 movies reviewed by the NYT were Critics' Picks.\")"
   ]
  },
  {
   "cell_type": "code",
   "execution_count": 470,
   "metadata": {
    "collapsed": false
   },
   "outputs": [
    {
     "name": "stdout",
     "output_type": "stream",
     "text": [
      "20 of the last 60 movies reviewed by the NYT were Critics' Picks.\n"
     ]
    }
   ],
   "source": [
    "response = requests.get('http://api.nytimes.com/svc/movies/v2/reviews/search.json?offset=40&api-key=c18b567567c749a2a2804742d60f7dd5')\n",
    "data = response.json()\n",
    "critics_pick = data['results']\n",
    "count_pick = 15 \n",
    "for pick in critics_pick:\n",
    "    if pick['critics_pick'] == 1:\n",
    "        count_pick = count_pick + 1\n",
    "print(count_pick,\"of the last 60 movies reviewed by the NYT were Critics' Picks.\")"
   ]
  },
  {
   "cell_type": "markdown",
   "metadata": {},
   "source": [
    "### 8) Out of the last 40 movie reviews from the NYT, which critic has written the most reviews?"
   ]
  },
  {
   "cell_type": "code",
   "execution_count": 511,
   "metadata": {
    "collapsed": false,
    "scrolled": true
   },
   "outputs": [
    {
     "name": "stdout",
     "output_type": "stream",
     "text": [
      "['A. O. SCOTT', 'A. O. SCOTT', 'GLENN KENNY', 'NEIL GENZLINGER', 'ANDY WEBSTER', 'KEN JAWOROWSKI', 'ANDY WEBSTER', 'DANIEL M. GOLD', 'JEANNETTE CATSOULIS', 'HELEN T. VERONGOS', 'ANDY WEBSTER', 'KEN JAWOROWSKI', 'MANOHLA DARGIS', 'A. O. SCOTT', 'STEPHEN HOLDEN', 'NEIL GENZLINGER', 'MANOHLA DARGIS', 'BEN KENIGSBERG', 'STEPHEN HOLDEN', 'MANOHLA DARGIS']\n"
     ]
    }
   ],
   "source": [
    "response = requests.get('http://api.nytimes.com/svc/movies/v2/reviews/search.json?api-key=c18b567567c749a2a2804742d60f7dd5')\n",
    "data20 = response.json()\n",
    "critics_20 = []\n",
    "for item in data20['results']:\n",
    "    critics_20.append(item['byline'])\n",
    "print(critics_20)"
   ]
  },
  {
   "cell_type": "code",
   "execution_count": 512,
   "metadata": {
    "collapsed": false
   },
   "outputs": [
    {
     "name": "stdout",
     "output_type": "stream",
     "text": [
      "{'STEPHEN HOLDEN', 'A. O. SCOTT', 'GLENN KENNY', 'HELEN T. VERONGOS', 'NEIL GENZLINGER', 'DANIEL M. GOLD', 'JEANNETTE CATSOULIS', 'BEN KENIGSBERG', 'MANOHLA DARGIS', 'KEN JAWOROWSKI', 'ANDY WEBSTER'}\n",
      "#####################\n",
      "Counter({'MANOHLA DARGIS': 3, 'A. O. SCOTT': 3, 'ANDY WEBSTER': 3, 'STEPHEN HOLDEN': 2, 'KEN JAWOROWSKI': 2, 'NEIL GENZLINGER': 2, 'BEN KENIGSBERG': 1, 'HELEN T. VERONGOS': 1, 'GLENN KENNY': 1, 'DANIEL M. GOLD': 1, 'JEANNETTE CATSOULIS': 1})\n"
     ]
    }
   ],
   "source": [
    "unique_critic = set(critics_20)\n",
    "print(unique_critic)\n",
    "\n",
    "print('#####################')\n",
    "\n",
    "from collections import Counter\n",
    "count1 = Counter(critics_20)\n",
    "print(count1)"
   ]
  },
  {
   "cell_type": "code",
   "execution_count": 513,
   "metadata": {
    "collapsed": false
   },
   "outputs": [
    {
     "name": "stdout",
     "output_type": "stream",
     "text": [
      "['STEPHEN HOLDEN', 'A. O. SCOTT', 'STEPHEN HOLDEN', 'NEIL GENZLINGER', 'BEN KENIGSBERG', 'GLENN KENNY', 'NEIL GENZLINGER', 'HELEN T. VERONGOS', 'BEN KENIGSBERG', 'GLENN KENNY', 'JEANNETTE CATSOULIS', 'GLENN KENNY', 'ANDY WEBSTER', 'A. O. SCOTT', 'HELEN T. VERONGOS', 'JEANNETTE CATSOULIS', 'ANDY WEBSTER', 'GLENN KENNY', 'KEN JAWOROWSKI', 'ANDY WEBSTER']\n"
     ]
    }
   ],
   "source": [
    "response = requests.get('http://api.nytimes.com/svc/movies/v2/reviews/search.json?offset=20&api-key=c18b567567c749a2a2804742d60f7dd5')\n",
    "data20_40 = response.json()\n",
    "critics20_40 = []\n",
    "for item in data20_40['results']:\n",
    "    critics20_40.append(item['byline'])\n",
    "print(critics20_40)\n",
    "\n",
    "# TA-COMMENT: (-0.5) You didn't count this one! I think it's missing from your totals below. "
   ]
  },
  {
   "cell_type": "code",
   "execution_count": 514,
   "metadata": {
    "collapsed": false
   },
   "outputs": [
    {
     "name": "stdout",
     "output_type": "stream",
     "text": [
      "{'STEPHEN HOLDEN', 'HELEN T. VERONGOS', 'GLENN KENNY', 'A. O. SCOTT', 'NEIL GENZLINGER', 'JEANNETTE CATSOULIS', 'BEN KENIGSBERG', 'KEN JAWOROWSKI', 'ANDY WEBSTER'}\n",
      "#####################\n",
      "Counter({'GLENN KENNY': 4, 'ANDY WEBSTER': 3, 'BEN KENIGSBERG': 2, 'STEPHEN HOLDEN': 2, 'HELEN T. VERONGOS': 2, 'A. O. SCOTT': 2, 'NEIL GENZLINGER': 2, 'JEANNETTE CATSOULIS': 2, 'KEN JAWOROWSKI': 1})\n"
     ]
    }
   ],
   "source": [
    "unique_critic = set(critics20_40)\n",
    "print(unique_critic)\n",
    "\n",
    "print('#####################')\n",
    "\n",
    "from collections import Counter\n",
    "count2 = Counter(critics20_40)\n",
    "print(count2)"
   ]
  },
  {
   "cell_type": "code",
   "execution_count": 523,
   "metadata": {
    "collapsed": false
   },
   "outputs": [
    {
     "data": {
      "text/plain": [
       "Counter({'A. O. SCOTT': 5,\n",
       "         'ANDY WEBSTER': 6,\n",
       "         'BEN KENIGSBERG': 3,\n",
       "         'DANIEL M. GOLD': 1,\n",
       "         'GLENN KENNY': 5,\n",
       "         'HELEN T. VERONGOS': 3,\n",
       "         'JEANNETTE CATSOULIS': 3,\n",
       "         'KEN JAWOROWSKI': 3,\n",
       "         'MANOHLA DARGIS': 3,\n",
       "         'NEIL GENZLINGER': 4,\n",
       "         'STEPHEN HOLDEN': 4})"
      ]
     },
     "execution_count": 523,
     "metadata": {},
     "output_type": "execute_result"
    }
   ],
   "source": [
    "count1 + count2 "
   ]
  },
  {
   "cell_type": "code",
   "execution_count": 526,
   "metadata": {
    "collapsed": false
   },
   "outputs": [
    {
     "data": {
      "text/plain": [
       "[('ANDY WEBSTER', 6)]"
      ]
     },
     "execution_count": 526,
     "metadata": {},
     "output_type": "execute_result"
    }
   ],
   "source": [
    "count.most_common(1)"
   ]
  },
  {
   "cell_type": "code",
   "execution_count": null,
   "metadata": {
    "collapsed": true
   },
   "outputs": [],
   "source": []
  }
 ],
 "metadata": {
  "kernelspec": {
   "display_name": "Python 3",
   "language": "python",
   "name": "python3"
  },
  "language_info": {
   "codemirror_mode": {
    "name": "ipython",
    "version": 3
   },
   "file_extension": ".py",
   "mimetype": "text/x-python",
   "name": "python",
   "nbconvert_exporter": "python",
   "pygments_lexer": "ipython3",
   "version": "3.5.0"
  }
 },
 "nbformat": 4,
 "nbformat_minor": 0
}
