{
 "cells": [
  {
   "cell_type": "markdown",
   "metadata": {},
   "source": [
    "# Homework assignment #3\n",
    "\n",
    "These problem sets focus on using the Beautiful Soup library to scrape web pages.\n",
    "\n",
    "## Problem Set #1: Basic scraping\n",
    "\n",
    "I've made a web page for you to scrape. It's available [here](http://static.decontextualize.com/widgets2016.html). The page concerns the catalog of a famous [widget](http://en.wikipedia.org/wiki/Widget) company. You'll be answering several questions about this web page. In the cell below, I've written some code so that you end up with a variable called `html_str` that contains the HTML source code of the page, and a variable `document` that stores a Beautiful Soup object."
   ]
  },
  {
   "cell_type": "code",
   "execution_count": 109,
   "metadata": {
    "collapsed": false
   },
   "outputs": [],
   "source": [
    "from bs4 import BeautifulSoup\n",
    "from urllib.request import urlopen\n",
    "html_str = urlopen(\"http://static.decontextualize.com/widgets2016.html\").read()\n",
    "document = BeautifulSoup(html_str, \"html.parser\")"
   ]
  },
  {
   "cell_type": "markdown",
   "metadata": {},
   "source": [
    "Now, in the cell below, use Beautiful Soup to write an expression that evaluates to the number of `<h3>` tags contained in `widgets2016.html`."
   ]
  },
  {
   "cell_type": "code",
   "execution_count": 110,
   "metadata": {
    "collapsed": false
   },
   "outputs": [
    {
     "data": {
      "text/plain": [
       "4"
      ]
     },
     "execution_count": 110,
     "metadata": {},
     "output_type": "execute_result"
    }
   ],
   "source": [
    "h3_tags = document.find_all('h3')\n",
    "len(h3_tags)"
   ]
  },
  {
   "cell_type": "markdown",
   "metadata": {},
   "source": [
    "Now, in the cell below, write an expression or series of statements that displays the telephone number beneath the \"Widget Catalog\" header."
   ]
  },
  {
   "cell_type": "code",
   "execution_count": 111,
   "metadata": {
    "collapsed": false
   },
   "outputs": [
    {
     "name": "stdout",
     "output_type": "stream",
     "text": [
      "212-555-9912\n"
     ]
    }
   ],
   "source": [
    "tele_number = document.find('a',{'class':'tel'})\n",
    "print(tele_number.string)"
   ]
  },
  {
   "cell_type": "markdown",
   "metadata": {},
   "source": [
    "In the cell below, use Beautiful Soup to write some code that prints the names of all the widgets on the page. After your code has executed, `widget_names` should evaluate to a list that looks like this (though not necessarily in this order):\n",
    "\n",
    "```\n",
    "Skinner Widget\n",
    "Widget For Furtiveness\n",
    "Widget For Strawman\n",
    "Jittery Widget\n",
    "Silver Widget\n",
    "Divided Widget\n",
    "Manicurist Widget\n",
    "Infinite Widget\n",
    "Yellow-Tipped Widget\n",
    "Unshakable Widget\n",
    "Self-Knowledge Widget\n",
    "Widget For Cinema\n",
    "```"
   ]
  },
  {
   "cell_type": "code",
   "execution_count": 112,
   "metadata": {
    "collapsed": false
   },
   "outputs": [
    {
     "name": "stdout",
     "output_type": "stream",
     "text": [
      "Skinner Widget\n",
      "Widget For Furtiveness\n",
      "Widget For Strawman\n",
      "Jittery Widget\n",
      "Silver Widget\n",
      "Divided Widget\n",
      "Manicurist Widget\n",
      "Infinite Widget\n",
      "Yellow-Tipped Widget\n",
      "Unshakable Widget\n",
      "Self-Knowledge Widget\n",
      "Widget For Cinema\n"
     ]
    }
   ],
   "source": [
    "widget_names = document.find_all('td', {'class': 'wname'})\n",
    "for widget_name in widget_names:\n",
    "    print(widget_name.string)"
   ]
  },
  {
   "cell_type": "markdown",
   "metadata": {},
   "source": [
    "## Problem set #2: Widget dictionaries\n",
    "\n",
    "For this problem set, we'll continue to use the HTML page from the previous problem set. In the cell below, I've made an empty list and assigned it to a variable called `widgets`. Write code that populates this list with dictionaries, one dictionary per widget in the source file. The keys of each dictionary should be `partno`, `wname`, `price`, and `quantity`, and the value for each of the keys should be the value for the corresponding column for each row. After executing the cell, your list should look something like this:\n",
    "\n",
    "```\n",
    "[{'partno': 'C1-9476',\n",
    "  'price': '$2.70',\n",
    "  'quantity': u'512',\n",
    "  'wname': 'Skinner Widget'},\n",
    " {'partno': 'JDJ-32/V',\n",
    "  'price': '$9.36',\n",
    "  'quantity': '967',\n",
    "  'wname': u'Widget For Furtiveness'},\n",
    "  ...several items omitted...\n",
    " {'partno': '5B-941/F',\n",
    "  'price': '$13.26',\n",
    "  'quantity': '919',\n",
    "  'wname': 'Widget For Cinema'}]\n",
    "```\n",
    "\n",
    "And this expression:\n",
    "\n",
    "    widgets[5]['partno']\n",
    "    \n",
    "... should evaluate to:\n",
    "\n",
    "    LH-74/O\n",
    "    "
   ]
  },
  {
   "cell_type": "code",
   "execution_count": 113,
   "metadata": {
    "collapsed": false
   },
   "outputs": [
    {
     "data": {
      "text/plain": [
       "[{'name': 'Skinner Widget',\n",
       "  'partno': 'C1-9476',\n",
       "  'price': '$2.70',\n",
       "  'quantity': '512'},\n",
       " {'name': 'Widget For Furtiveness',\n",
       "  'partno': 'JDJ-32/V',\n",
       "  'price': '$9.36',\n",
       "  'quantity': '967'},\n",
       " {'name': 'Widget For Strawman',\n",
       "  'partno': 'YP4-325/J',\n",
       "  'price': '$5.17',\n",
       "  'quantity': '787'},\n",
       " {'name': 'Jittery Widget',\n",
       "  'partno': 'ZZ-274',\n",
       "  'price': '$12.39',\n",
       "  'quantity': '895'},\n",
       " {'name': 'Silver Widget',\n",
       "  'partno': 'QO-794',\n",
       "  'price': '$14.31',\n",
       "  'quantity': '309'},\n",
       " {'name': 'Divided Widget',\n",
       "  'partno': 'LH-74/O',\n",
       "  'price': '$6.79',\n",
       "  'quantity': '981'},\n",
       " {'name': 'Manicurist Widget',\n",
       "  'partno': 'VK-486',\n",
       "  'price': '$8.97',\n",
       "  'quantity': '441'},\n",
       " {'name': 'Infinite Widget',\n",
       "  'partno': 'R4K-990',\n",
       "  'price': '$11.73',\n",
       "  'quantity': '320'},\n",
       " {'name': 'Yellow-Tipped Widget',\n",
       "  'partno': 'MZ-556/B',\n",
       "  'price': '$2.35',\n",
       "  'quantity': '948'},\n",
       " {'name': 'Unshakable Widget',\n",
       "  'partno': 'QV-730',\n",
       "  'price': '$3.76',\n",
       "  'quantity': '59'},\n",
       " {'name': 'Self-Knowledge Widget',\n",
       "  'partno': 'T1-9731',\n",
       "  'price': '$7.11',\n",
       "  'quantity': '790'},\n",
       " {'name': 'Widget For Cinema',\n",
       "  'partno': '5B-941/F',\n",
       "  'price': '$13.26',\n",
       "  'quantity': '919'}]"
      ]
     },
     "execution_count": 113,
     "metadata": {},
     "output_type": "execute_result"
    }
   ],
   "source": [
    "widgets = []\n",
    "\n",
    "# your code here\n",
    "widgets_info = document.find_all('tr', {'class': 'winfo'})\n",
    "for item in widgets_info:\n",
    "    item_names = item.find('td', {'class': 'wname'})\n",
    "    item_partnos = item.find('td', {'class': 'partno'})\n",
    "    item_prices = item.find('td', {'class': 'price'})\n",
    "    item_quantitys = item.find('td', {'class': 'quantity'})\n",
    "\n",
    "    dictionaries = {}\n",
    "    dictionaries['name'] = item_names.string\n",
    "    dictionaries['partno'] = item_partnos.string\n",
    "    dictionaries['price'] = item_prices.string\n",
    "    dictionaries['quantity'] = item_quantitys.string\n",
    "    widgets.append(dictionaries)\n",
    "# end your code\n",
    "widgets"
   ]
  },
  {
   "cell_type": "code",
   "execution_count": 114,
   "metadata": {
    "collapsed": false
   },
   "outputs": [
    {
     "name": "stdout",
     "output_type": "stream",
     "text": [
      "LH-74/O\n"
     ]
    }
   ],
   "source": [
    "print(widgets[5]['partno'])"
   ]
  },
  {
   "cell_type": "markdown",
   "metadata": {},
   "source": [
    "In the cell below, duplicate your code from the previous question. Modify the code to ensure that the values for `price` and `quantity` in each dictionary are floating-point numbers and integers, respectively. I.e., after executing the cell, your code should display something like this:\n",
    "\n",
    "    [{'partno': 'C1-9476',\n",
    "      'price': 2.7,\n",
    "      'quantity': 512,\n",
    "      'widgetname': 'Skinner Widget'},\n",
    "     {'partno': 'JDJ-32/V',\n",
    "      'price': 9.36,\n",
    "      'quantity': 967,\n",
    "      'widgetname': 'Widget For Furtiveness'},\n",
    "     ... some items omitted ...\n",
    "     {'partno': '5B-941/F',\n",
    "      'price': 13.26,\n",
    "      'quantity': 919,\n",
    "      'widgetname': 'Widget For Cinema'}]\n",
    "\n",
    "(Hint: Use the `float()` and `int()` functions. You may need to use string slices to convert the `price` field to a floating-point number.)"
   ]
  },
  {
   "cell_type": "code",
   "execution_count": 115,
   "metadata": {
    "collapsed": false
   },
   "outputs": [
    {
     "data": {
      "text/plain": [
       "[{'name': 'Skinner Widget',\n",
       "  'partno': 'C1-9476',\n",
       "  'price': 2.7,\n",
       "  'quantity': 512},\n",
       " {'name': 'Widget For Furtiveness',\n",
       "  'partno': 'JDJ-32/V',\n",
       "  'price': 9.36,\n",
       "  'quantity': 967},\n",
       " {'name': 'Widget For Strawman',\n",
       "  'partno': 'YP4-325/J',\n",
       "  'price': 5.17,\n",
       "  'quantity': 787},\n",
       " {'name': 'Jittery Widget',\n",
       "  'partno': 'ZZ-274',\n",
       "  'price': 12.39,\n",
       "  'quantity': 895},\n",
       " {'name': 'Silver Widget',\n",
       "  'partno': 'QO-794',\n",
       "  'price': 14.31,\n",
       "  'quantity': 309},\n",
       " {'name': 'Divided Widget',\n",
       "  'partno': 'LH-74/O',\n",
       "  'price': 6.79,\n",
       "  'quantity': 981},\n",
       " {'name': 'Manicurist Widget',\n",
       "  'partno': 'VK-486',\n",
       "  'price': 8.97,\n",
       "  'quantity': 441},\n",
       " {'name': 'Infinite Widget',\n",
       "  'partno': 'R4K-990',\n",
       "  'price': 11.73,\n",
       "  'quantity': 320},\n",
       " {'name': 'Yellow-Tipped Widget',\n",
       "  'partno': 'MZ-556/B',\n",
       "  'price': 2.35,\n",
       "  'quantity': 948},\n",
       " {'name': 'Unshakable Widget',\n",
       "  'partno': 'QV-730',\n",
       "  'price': 3.76,\n",
       "  'quantity': 59},\n",
       " {'name': 'Self-Knowledge Widget',\n",
       "  'partno': 'T1-9731',\n",
       "  'price': 7.11,\n",
       "  'quantity': 790},\n",
       " {'name': 'Widget For Cinema',\n",
       "  'partno': '5B-941/F',\n",
       "  'price': 13.26,\n",
       "  'quantity': 919}]"
      ]
     },
     "execution_count": 115,
     "metadata": {},
     "output_type": "execute_result"
    }
   ],
   "source": [
    "widgets = []\n",
    "\n",
    "# your code here\n",
    "widgets_info = document.find_all('tr', {'class': 'winfo'})\n",
    "for item in widgets_info:\n",
    "    item_names = item.find('td', {'class': 'wname'})\n",
    "    \n",
    "    \n",
    "for item in widgets_info:\n",
    "    item_names = item.find('td', {'class': 'wname'})\n",
    "    item_partnos = item.find('td', {'class': 'partno'})\n",
    "    item_prices = item.find('td', {'class': 'price'})\n",
    "    item_quantitys = item.find('td', {'class': 'quantity'})\n",
    "    \n",
    "    for quantity_tag in item_quantitys:\n",
    "        quantity = int(quantity_tag)\n",
    "    for price_tag in item_prices:\n",
    "        price = float(price_tag[1:])\n",
    "        \n",
    "    dictionaries = {}\n",
    "    dictionaries['name'] = item_names.string\n",
    "    dictionaries['partno'] = item_partnos.string\n",
    "    dictionaries['price'] =  price \n",
    "    dictionaries['quantity'] = quantity\n",
    "    widgets.append(dictionaries)\n",
    "  \n",
    "# end your code\n",
    "\n",
    "widgets"
   ]
  },
  {
   "cell_type": "markdown",
   "metadata": {},
   "source": [
    "Great! I hope you're having fun. In the cell below, write an expression or series of statements that uses the `widgets` list created in the cell above to calculate the total number of widgets that the factory has in its warehouse.\n",
    "\n",
    "Expected output: `7928`"
   ]
  },
  {
   "cell_type": "code",
   "execution_count": 116,
   "metadata": {
    "collapsed": false
   },
   "outputs": [
    {
     "name": "stdout",
     "output_type": "stream",
     "text": [
      "7928\n"
     ]
    }
   ],
   "source": [
    "total_quantity = []\n",
    "for item in widgets:\n",
    "    total_quantity.append(item['quantity'])\n",
    "print(sum(total_quantity))"
   ]
  },
  {
   "cell_type": "markdown",
   "metadata": {},
   "source": [
    "In the cell below, write some Python code that prints the names of widgets whose price is above $9.30.\n",
    "\n",
    "Expected output:\n",
    "\n",
    "```\n",
    "Widget For Furtiveness\n",
    "Jittery Widget\n",
    "Silver Widget\n",
    "Infinite Widget\n",
    "Widget For Cinema\n",
    "```"
   ]
  },
  {
   "cell_type": "code",
   "execution_count": null,
   "metadata": {
    "collapsed": true
   },
   "outputs": [],
   "source": []
  },
  {
   "cell_type": "code",
   "execution_count": 117,
   "metadata": {
    "collapsed": false
   },
   "outputs": [
    {
     "name": "stdout",
     "output_type": "stream",
     "text": [
      "Widget For Furtiveness\n",
      "Jittery Widget\n",
      "Silver Widget\n",
      "Infinite Widget\n",
      "Widget For Cinema\n"
     ]
    }
   ],
   "source": [
    "for item in widgets:\n",
    "    if item['price'] > 9.30:\n",
    "        print(item['name'])"
   ]
  },
  {
   "cell_type": "markdown",
   "metadata": {},
   "source": [
    "## Problem set #3: Sibling rivalries\n",
    "\n",
    "In the following problem set, you will yet again be working with the data in `widgets2016.html`. In order to accomplish the tasks in this problem set, you'll need to learn about Beautiful Soup's `.find_next_sibling()` method. Here's some information about that method, cribbed from the notes:\n",
    "\n",
    "Often, the tags we're looking for don't have a distinguishing characteristic, like a class attribute, that allows us to find them using `.find()` and `.find_all()`, and the tags also aren't in a parent-child relationship. This can be tricky! For example, take the following HTML snippet, (which I've assigned to a string called `example_html`):"
   ]
  },
  {
   "cell_type": "code",
   "execution_count": 118,
   "metadata": {
    "collapsed": false
   },
   "outputs": [],
   "source": [
    "example_html = \"\"\"\n",
    "<h2>Camembert</h2>\n",
    "<p>A soft cheese made in the Camembert region of France.</p>\n",
    "\n",
    "<h2>Cheddar</h2>\n",
    "<p>A yellow cheese made in the Cheddar region of... France, probably, idk whatevs.</p>\n",
    "\"\"\""
   ]
  },
  {
   "cell_type": "markdown",
   "metadata": {},
   "source": [
    "If our task was to create a dictionary that maps the name of the cheese to the description that follows in the `<p>` tag directly afterward, we'd be out of luck. Fortunately, Beautiful Soup has a `.find_next_sibling()` method, which allows us to search for the next tag that is a sibling of the tag you're calling it on (i.e., the two tags share a parent), that also matches particular criteria. So, for example, to accomplish the task outlined above:"
   ]
  },
  {
   "cell_type": "code",
   "execution_count": 119,
   "metadata": {
    "collapsed": false
   },
   "outputs": [
    {
     "data": {
      "text/plain": [
       "{'Camembert': 'A soft cheese made in the Camembert region of France.',\n",
       " 'Cheddar': 'A yellow cheese made in the Cheddar region of... France, probably, idk whatevs.'}"
      ]
     },
     "execution_count": 119,
     "metadata": {},
     "output_type": "execute_result"
    }
   ],
   "source": [
    "example_doc = BeautifulSoup(example_html, \"html.parser\")\n",
    "cheese_dict = {}\n",
    "for h2_tag in example_doc.find_all('h2'):\n",
    "    cheese_name = h2_tag.string\n",
    "    cheese_desc_tag = h2_tag.find_next_sibling('p')\n",
    "    cheese_dict[cheese_name] = cheese_desc_tag.string\n",
    "\n",
    "cheese_dict"
   ]
  },
  {
   "cell_type": "markdown",
   "metadata": {},
   "source": [
    "With that knowledge in mind, let's go back to our widgets. In the cell below, write code that uses Beautiful Soup, and in particular the `.find_next_sibling()` method, to print the part numbers of the widgets that are in the table *just beneath* the header \"Hallowed Widgets.\"\n",
    "\n",
    "Expected output:\n",
    "\n",
    "```\n",
    "MZ-556/B\n",
    "QV-730\n",
    "T1-9731\n",
    "5B-941/F\n",
    "```"
   ]
  },
  {
   "cell_type": "code",
   "execution_count": 157,
   "metadata": {
    "collapsed": false
   },
   "outputs": [
    {
     "name": "stdout",
     "output_type": "stream",
     "text": [
      "MZ-556/B\n",
      "QV-730\n",
      "T1-9731\n",
      "5B-941/F\n"
     ]
    }
   ],
   "source": [
    "h3_tag = document.find_all('h3')\n",
    "for item in h3_tag:\n",
    "    if item.string == \"Hallowed widgets\":\n",
    "        partno_tag = item.find_next_sibling('table', {'class': 'widgetlist'})\n",
    "        partno_name = partno_tag.find_all('td', {'class': 'partno'})\n",
    "        for partno in partno_name:\n",
    "            print(partno.string)"
   ]
  },
  {
   "cell_type": "markdown",
   "metadata": {},
   "source": [
    "Okay, now, the final task. If you can accomplish this, you are truly an expert web scraper. I'll have little web scraper certificates made up and I'll give you one, if you manage to do this thing. And I know you can do it!\n",
    "\n",
    "In the cell below, I've created a variable `category_counts` and assigned to it an empty dictionary. Write code to populate this dictionary so that its keys are \"categories\" of widgets (e.g., the contents of the `<h3>` tags on the page: \"Forensic Widgets\", \"Mood widgets\", \"Hallowed Widgets\") and the value for each key is the number of widgets that occur in that category. I.e., after your code has been executed, the dictionary `category_counts` should look like this:\n",
    "\n",
    "```\n",
    "{'Forensic Widgets': 3,\n",
    " 'Hallowed widgets': 4,\n",
    " 'Mood widgets': 2,\n",
    " 'Wondrous widgets': 3}\n",
    "```"
   ]
  },
  {
   "cell_type": "code",
   "execution_count": 166,
   "metadata": {
    "collapsed": false
   },
   "outputs": [
    {
     "data": {
      "text/plain": [
       "{'Forensic Widgets': 3,\n",
       " 'Hallowed widgets': 4,\n",
       " 'Mood widgets': 2,\n",
       " 'Wondrous widgets': 3}"
      ]
     },
     "execution_count": 166,
     "metadata": {},
     "output_type": "execute_result"
    }
   ],
   "source": [
    "category_counts = {}\n",
    "# your code here\n",
    "\n",
    "h3_tag = document.find_all('h3')\n",
    "for item in h3_tag:\n",
    "    if item.string == \"Forensic Widgets\":\n",
    "        wname_tag = item.find_next_sibling('table', {'class': 'widgetlist'})\n",
    "        names = wname_tag.find_all('td', {'class': 'wname'})\n",
    "        name_list1 = []\n",
    "        for name in names:\n",
    "            name_list1.append(name.string)\n",
    "            name_list1_len = len(name_list1)\n",
    "    if item.string == \"Hallowed widgets\":\n",
    "        wname_tag = item.find_next_sibling('table', {'class': 'widgetlist'})\n",
    "        names = wname_tag.find_all('td', {'class': 'wname'})\n",
    "        name_list2 = []\n",
    "        for name in names:\n",
    "            name_list2.append(name.string)\n",
    "            name_list2_len = len(name_list2)\n",
    "    if item.string == \"Mood widgets\":\n",
    "        wname_tag = item.find_next_sibling('table', {'class': 'widgetlist'})\n",
    "        names = wname_tag.find_all('td', {'class': 'wname'})\n",
    "        name_list3 = []\n",
    "        for name in names:\n",
    "            name_list3.append(name.string)\n",
    "            name_list3_len = len(name_list3)  \n",
    "    if item.string == \"Wondrous widgets\":\n",
    "        wname_tag = item.find_next_sibling('table', {'class': 'widgetlist'})\n",
    "        names = wname_tag.find_all('td', {'class': 'wname'})\n",
    "        name_list4 = []\n",
    "        for name in names:\n",
    "            name_list4.append(name.string)\n",
    "            name_list4_len = len(name_list4)  \n",
    "category_counts['Forensic Widgets'] = name_list1_len\n",
    "category_counts['Hallowed widgets'] = name_list2_len\n",
    "category_counts['Mood widgets'] = name_list3_len\n",
    "category_counts['Wondrous widgets'] = name_list4_len\n",
    "# end your code\n",
    "category_counts"
   ]
  },
  {
   "cell_type": "markdown",
   "metadata": {},
   "source": [
    "Congratulations! You're done."
   ]
  }
 ],
 "metadata": {
  "kernelspec": {
   "display_name": "Python 3",
   "language": "python",
   "name": "python3"
  },
  "language_info": {
   "codemirror_mode": {
    "name": "ipython",
    "version": 3
   },
   "file_extension": ".py",
   "mimetype": "text/x-python",
   "name": "python",
   "nbconvert_exporter": "python",
   "pygments_lexer": "ipython3",
   "version": "3.5.1"
  }
 },
 "nbformat": 4,
 "nbformat_minor": 0
}
